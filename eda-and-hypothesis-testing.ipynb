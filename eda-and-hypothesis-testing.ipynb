{
 "cells": [
  {
   "cell_type": "markdown",
   "id": "e5d4a19f",
   "metadata": {
    "id": "GAUnD7Pp_AaP",
    "papermill": {
     "duration": 0.027865,
     "end_time": "2021-11-25T09:04:27.199732",
     "exception": false,
     "start_time": "2021-11-25T09:04:27.171867",
     "status": "completed"
    },
    "tags": []
   },
   "source": [
    "# This document is a report suggesting how to maximise the profit of our next movie project considering the current budget constraint.\n"
   ]
  },
  {
   "cell_type": "code",
   "execution_count": 1,
   "id": "57902d4a",
   "metadata": {
    "execution": {
     "iopub.execute_input": "2021-11-25T09:04:27.253822Z",
     "iopub.status.busy": "2021-11-25T09:04:27.252773Z",
     "iopub.status.idle": "2021-11-25T09:04:27.270132Z",
     "shell.execute_reply": "2021-11-25T09:04:27.271011Z",
     "shell.execute_reply.started": "2021-11-25T08:58:43.797419Z"
    },
    "papermill": {
     "duration": 0.046927,
     "end_time": "2021-11-25T09:04:27.271453",
     "exception": false,
     "start_time": "2021-11-25T09:04:27.224526",
     "status": "completed"
    },
    "tags": []
   },
   "outputs": [
    {
     "name": "stdout",
     "output_type": "stream",
     "text": [
      "/kaggle/input/movie-data-imdb/movie_metadata.csv\n"
     ]
    }
   ],
   "source": [
    "import os\n",
    "for root,_,filename in os.walk('/kaggle/input'):\n",
    "    for filename in filename:\n",
    "        print(os.path.join(root,filename))\n",
    "    \n",
    "    "
   ]
  },
  {
   "cell_type": "code",
   "execution_count": 2,
   "id": "428ce223",
   "metadata": {
    "execution": {
     "iopub.execute_input": "2021-11-25T09:04:27.337520Z",
     "iopub.status.busy": "2021-11-25T09:04:27.336831Z",
     "iopub.status.idle": "2021-11-25T09:04:28.267102Z",
     "shell.execute_reply": "2021-11-25T09:04:28.267595Z",
     "shell.execute_reply.started": "2021-11-25T08:58:43.835149Z"
    },
    "id": "JFSd0bX1Ymi5",
    "papermill": {
     "duration": 0.96478,
     "end_time": "2021-11-25T09:04:28.267797",
     "exception": false,
     "start_time": "2021-11-25T09:04:27.303017",
     "status": "completed"
    },
    "tags": []
   },
   "outputs": [],
   "source": [
    "#Importing all the relevent modules\n",
    "import pandas as pd\n",
    "import numpy as np\n",
    "import matplotlib.pyplot as plt\n",
    "import seaborn as sn\n",
    "import sklearn\n",
    "import re"
   ]
  },
  {
   "cell_type": "code",
   "execution_count": 3,
   "id": "fe3b2692",
   "metadata": {
    "execution": {
     "iopub.execute_input": "2021-11-25T09:04:28.326713Z",
     "iopub.status.busy": "2021-11-25T09:04:28.325950Z",
     "iopub.status.idle": "2021-11-25T09:04:28.436992Z",
     "shell.execute_reply": "2021-11-25T09:04:28.437484Z",
     "shell.execute_reply.started": "2021-11-25T08:58:44.777266Z"
    },
    "id": "zkpIP-b7aAQw",
    "outputId": "9b15c004-4097-499f-96d9-a9590e999e2e",
    "papermill": {
     "duration": 0.141136,
     "end_time": "2021-11-25T09:04:28.437673",
     "exception": false,
     "start_time": "2021-11-25T09:04:28.296537",
     "status": "completed"
    },
    "tags": []
   },
   "outputs": [
    {
     "data": {
      "text/html": [
       "<div>\n",
       "<style scoped>\n",
       "    .dataframe tbody tr th:only-of-type {\n",
       "        vertical-align: middle;\n",
       "    }\n",
       "\n",
       "    .dataframe tbody tr th {\n",
       "        vertical-align: top;\n",
       "    }\n",
       "\n",
       "    .dataframe thead th {\n",
       "        text-align: right;\n",
       "    }\n",
       "</style>\n",
       "<table border=\"1\" class=\"dataframe\">\n",
       "  <thead>\n",
       "    <tr style=\"text-align: right;\">\n",
       "      <th></th>\n",
       "      <th>color</th>\n",
       "      <th>director_name</th>\n",
       "      <th>num_critic_for_reviews</th>\n",
       "      <th>duration</th>\n",
       "      <th>director_facebook_likes</th>\n",
       "      <th>actor_3_facebook_likes</th>\n",
       "      <th>actor_2_name</th>\n",
       "      <th>actor_1_facebook_likes</th>\n",
       "      <th>gross</th>\n",
       "      <th>genres</th>\n",
       "      <th>actor_1_name</th>\n",
       "      <th>movie_title</th>\n",
       "      <th>num_voted_users</th>\n",
       "      <th>cast_total_facebook_likes</th>\n",
       "      <th>actor_3_name</th>\n",
       "      <th>facenumber_in_poster</th>\n",
       "      <th>plot_keywords</th>\n",
       "      <th>movie_imdb_link</th>\n",
       "      <th>num_user_for_reviews</th>\n",
       "      <th>language</th>\n",
       "      <th>country</th>\n",
       "      <th>content_rating</th>\n",
       "      <th>budget</th>\n",
       "      <th>title_year</th>\n",
       "      <th>actor_2_facebook_likes</th>\n",
       "      <th>imdb_score</th>\n",
       "      <th>aspect_ratio</th>\n",
       "      <th>movie_facebook_likes</th>\n",
       "    </tr>\n",
       "  </thead>\n",
       "  <tbody>\n",
       "    <tr>\n",
       "      <th>0</th>\n",
       "      <td>Color</td>\n",
       "      <td>James Cameron</td>\n",
       "      <td>723.0</td>\n",
       "      <td>178.0</td>\n",
       "      <td>0.0</td>\n",
       "      <td>855.0</td>\n",
       "      <td>Joel David Moore</td>\n",
       "      <td>1000.0</td>\n",
       "      <td>760505847.0</td>\n",
       "      <td>Action|Adventure|Fantasy|Sci-Fi</td>\n",
       "      <td>CCH Pounder</td>\n",
       "      <td>Avatar</td>\n",
       "      <td>886204</td>\n",
       "      <td>4834</td>\n",
       "      <td>Wes Studi</td>\n",
       "      <td>0.0</td>\n",
       "      <td>avatar|future|marine|native|paraplegic</td>\n",
       "      <td>http://www.imdb.com/title/tt0499549/?ref_=fn_t...</td>\n",
       "      <td>3054.0</td>\n",
       "      <td>English</td>\n",
       "      <td>USA</td>\n",
       "      <td>PG-13</td>\n",
       "      <td>237000000.0</td>\n",
       "      <td>2009.0</td>\n",
       "      <td>936.0</td>\n",
       "      <td>7.9</td>\n",
       "      <td>1.78</td>\n",
       "      <td>33000</td>\n",
       "    </tr>\n",
       "    <tr>\n",
       "      <th>1</th>\n",
       "      <td>Color</td>\n",
       "      <td>Gore Verbinski</td>\n",
       "      <td>302.0</td>\n",
       "      <td>169.0</td>\n",
       "      <td>563.0</td>\n",
       "      <td>1000.0</td>\n",
       "      <td>Orlando Bloom</td>\n",
       "      <td>40000.0</td>\n",
       "      <td>309404152.0</td>\n",
       "      <td>Action|Adventure|Fantasy</td>\n",
       "      <td>Johnny Depp</td>\n",
       "      <td>Pirates of the Caribbean: At World's End</td>\n",
       "      <td>471220</td>\n",
       "      <td>48350</td>\n",
       "      <td>Jack Davenport</td>\n",
       "      <td>0.0</td>\n",
       "      <td>goddess|marriage ceremony|marriage proposal|pi...</td>\n",
       "      <td>http://www.imdb.com/title/tt0449088/?ref_=fn_t...</td>\n",
       "      <td>1238.0</td>\n",
       "      <td>English</td>\n",
       "      <td>USA</td>\n",
       "      <td>PG-13</td>\n",
       "      <td>300000000.0</td>\n",
       "      <td>2007.0</td>\n",
       "      <td>5000.0</td>\n",
       "      <td>7.1</td>\n",
       "      <td>2.35</td>\n",
       "      <td>0</td>\n",
       "    </tr>\n",
       "    <tr>\n",
       "      <th>2</th>\n",
       "      <td>Color</td>\n",
       "      <td>Sam Mendes</td>\n",
       "      <td>602.0</td>\n",
       "      <td>148.0</td>\n",
       "      <td>0.0</td>\n",
       "      <td>161.0</td>\n",
       "      <td>Rory Kinnear</td>\n",
       "      <td>11000.0</td>\n",
       "      <td>200074175.0</td>\n",
       "      <td>Action|Adventure|Thriller</td>\n",
       "      <td>Christoph Waltz</td>\n",
       "      <td>Spectre</td>\n",
       "      <td>275868</td>\n",
       "      <td>11700</td>\n",
       "      <td>Stephanie Sigman</td>\n",
       "      <td>1.0</td>\n",
       "      <td>bomb|espionage|sequel|spy|terrorist</td>\n",
       "      <td>http://www.imdb.com/title/tt2379713/?ref_=fn_t...</td>\n",
       "      <td>994.0</td>\n",
       "      <td>English</td>\n",
       "      <td>UK</td>\n",
       "      <td>PG-13</td>\n",
       "      <td>245000000.0</td>\n",
       "      <td>2015.0</td>\n",
       "      <td>393.0</td>\n",
       "      <td>6.8</td>\n",
       "      <td>2.35</td>\n",
       "      <td>85000</td>\n",
       "    </tr>\n",
       "    <tr>\n",
       "      <th>3</th>\n",
       "      <td>Color</td>\n",
       "      <td>Christopher Nolan</td>\n",
       "      <td>813.0</td>\n",
       "      <td>164.0</td>\n",
       "      <td>22000.0</td>\n",
       "      <td>23000.0</td>\n",
       "      <td>Christian Bale</td>\n",
       "      <td>27000.0</td>\n",
       "      <td>448130642.0</td>\n",
       "      <td>Action|Thriller</td>\n",
       "      <td>Tom Hardy</td>\n",
       "      <td>The Dark Knight Rises</td>\n",
       "      <td>1144337</td>\n",
       "      <td>106759</td>\n",
       "      <td>Joseph Gordon-Levitt</td>\n",
       "      <td>0.0</td>\n",
       "      <td>deception|imprisonment|lawlessness|police offi...</td>\n",
       "      <td>http://www.imdb.com/title/tt1345836/?ref_=fn_t...</td>\n",
       "      <td>2701.0</td>\n",
       "      <td>English</td>\n",
       "      <td>USA</td>\n",
       "      <td>PG-13</td>\n",
       "      <td>250000000.0</td>\n",
       "      <td>2012.0</td>\n",
       "      <td>23000.0</td>\n",
       "      <td>8.5</td>\n",
       "      <td>2.35</td>\n",
       "      <td>164000</td>\n",
       "    </tr>\n",
       "    <tr>\n",
       "      <th>4</th>\n",
       "      <td>NaN</td>\n",
       "      <td>Doug Walker</td>\n",
       "      <td>NaN</td>\n",
       "      <td>NaN</td>\n",
       "      <td>131.0</td>\n",
       "      <td>NaN</td>\n",
       "      <td>Rob Walker</td>\n",
       "      <td>131.0</td>\n",
       "      <td>NaN</td>\n",
       "      <td>Documentary</td>\n",
       "      <td>Doug Walker</td>\n",
       "      <td>Star Wars: Episode VII - The Force Awakens    ...</td>\n",
       "      <td>8</td>\n",
       "      <td>143</td>\n",
       "      <td>NaN</td>\n",
       "      <td>0.0</td>\n",
       "      <td>NaN</td>\n",
       "      <td>http://www.imdb.com/title/tt5289954/?ref_=fn_t...</td>\n",
       "      <td>NaN</td>\n",
       "      <td>NaN</td>\n",
       "      <td>NaN</td>\n",
       "      <td>NaN</td>\n",
       "      <td>NaN</td>\n",
       "      <td>NaN</td>\n",
       "      <td>12.0</td>\n",
       "      <td>7.1</td>\n",
       "      <td>NaN</td>\n",
       "      <td>0</td>\n",
       "    </tr>\n",
       "  </tbody>\n",
       "</table>\n",
       "</div>"
      ],
      "text/plain": [
       "   color      director_name  num_critic_for_reviews  duration  \\\n",
       "0  Color      James Cameron                   723.0     178.0   \n",
       "1  Color     Gore Verbinski                   302.0     169.0   \n",
       "2  Color         Sam Mendes                   602.0     148.0   \n",
       "3  Color  Christopher Nolan                   813.0     164.0   \n",
       "4    NaN        Doug Walker                     NaN       NaN   \n",
       "\n",
       "   director_facebook_likes  actor_3_facebook_likes      actor_2_name  \\\n",
       "0                      0.0                   855.0  Joel David Moore   \n",
       "1                    563.0                  1000.0     Orlando Bloom   \n",
       "2                      0.0                   161.0      Rory Kinnear   \n",
       "3                  22000.0                 23000.0    Christian Bale   \n",
       "4                    131.0                     NaN        Rob Walker   \n",
       "\n",
       "   actor_1_facebook_likes        gross                           genres  \\\n",
       "0                  1000.0  760505847.0  Action|Adventure|Fantasy|Sci-Fi   \n",
       "1                 40000.0  309404152.0         Action|Adventure|Fantasy   \n",
       "2                 11000.0  200074175.0        Action|Adventure|Thriller   \n",
       "3                 27000.0  448130642.0                  Action|Thriller   \n",
       "4                   131.0          NaN                      Documentary   \n",
       "\n",
       "      actor_1_name                                        movie_title  \\\n",
       "0      CCH Pounder                                            Avatar    \n",
       "1      Johnny Depp          Pirates of the Caribbean: At World's End    \n",
       "2  Christoph Waltz                                           Spectre    \n",
       "3        Tom Hardy                             The Dark Knight Rises    \n",
       "4      Doug Walker  Star Wars: Episode VII - The Force Awakens    ...   \n",
       "\n",
       "   num_voted_users  cast_total_facebook_likes          actor_3_name  \\\n",
       "0           886204                       4834             Wes Studi   \n",
       "1           471220                      48350        Jack Davenport   \n",
       "2           275868                      11700      Stephanie Sigman   \n",
       "3          1144337                     106759  Joseph Gordon-Levitt   \n",
       "4                8                        143                   NaN   \n",
       "\n",
       "   facenumber_in_poster                                      plot_keywords  \\\n",
       "0                   0.0             avatar|future|marine|native|paraplegic   \n",
       "1                   0.0  goddess|marriage ceremony|marriage proposal|pi...   \n",
       "2                   1.0                bomb|espionage|sequel|spy|terrorist   \n",
       "3                   0.0  deception|imprisonment|lawlessness|police offi...   \n",
       "4                   0.0                                                NaN   \n",
       "\n",
       "                                     movie_imdb_link  num_user_for_reviews  \\\n",
       "0  http://www.imdb.com/title/tt0499549/?ref_=fn_t...                3054.0   \n",
       "1  http://www.imdb.com/title/tt0449088/?ref_=fn_t...                1238.0   \n",
       "2  http://www.imdb.com/title/tt2379713/?ref_=fn_t...                 994.0   \n",
       "3  http://www.imdb.com/title/tt1345836/?ref_=fn_t...                2701.0   \n",
       "4  http://www.imdb.com/title/tt5289954/?ref_=fn_t...                   NaN   \n",
       "\n",
       "  language country content_rating       budget  title_year  \\\n",
       "0  English     USA          PG-13  237000000.0      2009.0   \n",
       "1  English     USA          PG-13  300000000.0      2007.0   \n",
       "2  English      UK          PG-13  245000000.0      2015.0   \n",
       "3  English     USA          PG-13  250000000.0      2012.0   \n",
       "4      NaN     NaN            NaN          NaN         NaN   \n",
       "\n",
       "   actor_2_facebook_likes  imdb_score  aspect_ratio  movie_facebook_likes  \n",
       "0                   936.0         7.9          1.78                 33000  \n",
       "1                  5000.0         7.1          2.35                     0  \n",
       "2                   393.0         6.8          2.35                 85000  \n",
       "3                 23000.0         8.5          2.35                164000  \n",
       "4                    12.0         7.1           NaN                     0  "
      ]
     },
     "execution_count": 3,
     "metadata": {},
     "output_type": "execute_result"
    }
   ],
   "source": [
    "df_raw = pd.read_csv('/kaggle/input/movie-data-imdb/movie_metadata.csv')\n",
    "pd.set_option('max_columns', None)\n",
    "df_raw.head()"
   ]
  },
  {
   "cell_type": "code",
   "execution_count": 4,
   "id": "f69c4249",
   "metadata": {
    "execution": {
     "iopub.execute_input": "2021-11-25T09:04:28.503104Z",
     "iopub.status.busy": "2021-11-25T09:04:28.502166Z",
     "iopub.status.idle": "2021-11-25T09:04:28.504516Z",
     "shell.execute_reply": "2021-11-25T09:04:28.504988Z",
     "shell.execute_reply.started": "2021-11-25T08:58:44.916755Z"
    },
    "id": "Nd7bDr_0br1d",
    "papermill": {
     "duration": 0.039311,
     "end_time": "2021-11-25T09:04:28.505169",
     "exception": false,
     "start_time": "2021-11-25T09:04:28.465858",
     "status": "completed"
    },
    "tags": []
   },
   "outputs": [],
   "source": [
    "#this creats a new column 'profit' in the dataframe\n",
    "df_raw['profit'] =df_raw['gross'] - df_raw['budget']"
   ]
  },
  {
   "cell_type": "code",
   "execution_count": 5,
   "id": "544791bd",
   "metadata": {
    "execution": {
     "iopub.execute_input": "2021-11-25T09:04:28.560614Z",
     "iopub.status.busy": "2021-11-25T09:04:28.559967Z",
     "iopub.status.idle": "2021-11-25T09:04:28.620708Z",
     "shell.execute_reply": "2021-11-25T09:04:28.621133Z",
     "shell.execute_reply.started": "2021-11-25T08:58:44.928441Z"
    },
    "id": "HZDPHkTS8_k9",
    "outputId": "9e819053-1316-4287-f0b3-a653d18151a8",
    "papermill": {
     "duration": 0.090127,
     "end_time": "2021-11-25T09:04:28.621322",
     "exception": false,
     "start_time": "2021-11-25T09:04:28.531195",
     "status": "completed"
    },
    "tags": []
   },
   "outputs": [
    {
     "data": {
      "text/html": [
       "<div>\n",
       "<style scoped>\n",
       "    .dataframe tbody tr th:only-of-type {\n",
       "        vertical-align: middle;\n",
       "    }\n",
       "\n",
       "    .dataframe tbody tr th {\n",
       "        vertical-align: top;\n",
       "    }\n",
       "\n",
       "    .dataframe thead th {\n",
       "        text-align: right;\n",
       "    }\n",
       "</style>\n",
       "<table border=\"1\" class=\"dataframe\">\n",
       "  <thead>\n",
       "    <tr style=\"text-align: right;\">\n",
       "      <th></th>\n",
       "      <th>color</th>\n",
       "      <th>director_name</th>\n",
       "      <th>num_critic_for_reviews</th>\n",
       "      <th>duration</th>\n",
       "      <th>director_facebook_likes</th>\n",
       "      <th>actor_3_facebook_likes</th>\n",
       "      <th>actor_2_name</th>\n",
       "      <th>actor_1_facebook_likes</th>\n",
       "      <th>gross</th>\n",
       "      <th>genres</th>\n",
       "      <th>actor_1_name</th>\n",
       "      <th>movie_title</th>\n",
       "      <th>num_voted_users</th>\n",
       "      <th>cast_total_facebook_likes</th>\n",
       "      <th>actor_3_name</th>\n",
       "      <th>facenumber_in_poster</th>\n",
       "      <th>plot_keywords</th>\n",
       "      <th>movie_imdb_link</th>\n",
       "      <th>num_user_for_reviews</th>\n",
       "      <th>language</th>\n",
       "      <th>country</th>\n",
       "      <th>content_rating</th>\n",
       "      <th>budget</th>\n",
       "      <th>title_year</th>\n",
       "      <th>actor_2_facebook_likes</th>\n",
       "      <th>imdb_score</th>\n",
       "      <th>aspect_ratio</th>\n",
       "      <th>movie_facebook_likes</th>\n",
       "      <th>profit</th>\n",
       "    </tr>\n",
       "  </thead>\n",
       "  <tbody>\n",
       "    <tr>\n",
       "      <th>0</th>\n",
       "      <td>Color</td>\n",
       "      <td>James Cameron</td>\n",
       "      <td>723.0</td>\n",
       "      <td>178.0</td>\n",
       "      <td>0.0</td>\n",
       "      <td>855.0</td>\n",
       "      <td>Joel David Moore</td>\n",
       "      <td>1000.0</td>\n",
       "      <td>760505847.0</td>\n",
       "      <td>Action|Adventure|Fantasy|Sci-Fi</td>\n",
       "      <td>CCH Pounder</td>\n",
       "      <td>Avatar</td>\n",
       "      <td>886204</td>\n",
       "      <td>4834</td>\n",
       "      <td>Wes Studi</td>\n",
       "      <td>0.0</td>\n",
       "      <td>avatar|future|marine|native|paraplegic</td>\n",
       "      <td>http://www.imdb.com/title/tt0499549/?ref_=fn_t...</td>\n",
       "      <td>3054.0</td>\n",
       "      <td>English</td>\n",
       "      <td>USA</td>\n",
       "      <td>PG-13</td>\n",
       "      <td>237000000.0</td>\n",
       "      <td>2009.0</td>\n",
       "      <td>936.0</td>\n",
       "      <td>7.9</td>\n",
       "      <td>1.78</td>\n",
       "      <td>33000</td>\n",
       "      <td>523505847.0</td>\n",
       "    </tr>\n",
       "    <tr>\n",
       "      <th>1</th>\n",
       "      <td>Color</td>\n",
       "      <td>Gore Verbinski</td>\n",
       "      <td>302.0</td>\n",
       "      <td>169.0</td>\n",
       "      <td>563.0</td>\n",
       "      <td>1000.0</td>\n",
       "      <td>Orlando Bloom</td>\n",
       "      <td>40000.0</td>\n",
       "      <td>309404152.0</td>\n",
       "      <td>Action|Adventure|Fantasy</td>\n",
       "      <td>Johnny Depp</td>\n",
       "      <td>Pirates of the Caribbean: At World's End</td>\n",
       "      <td>471220</td>\n",
       "      <td>48350</td>\n",
       "      <td>Jack Davenport</td>\n",
       "      <td>0.0</td>\n",
       "      <td>goddess|marriage ceremony|marriage proposal|pi...</td>\n",
       "      <td>http://www.imdb.com/title/tt0449088/?ref_=fn_t...</td>\n",
       "      <td>1238.0</td>\n",
       "      <td>English</td>\n",
       "      <td>USA</td>\n",
       "      <td>PG-13</td>\n",
       "      <td>300000000.0</td>\n",
       "      <td>2007.0</td>\n",
       "      <td>5000.0</td>\n",
       "      <td>7.1</td>\n",
       "      <td>2.35</td>\n",
       "      <td>0</td>\n",
       "      <td>9404152.0</td>\n",
       "    </tr>\n",
       "    <tr>\n",
       "      <th>2</th>\n",
       "      <td>Color</td>\n",
       "      <td>Sam Mendes</td>\n",
       "      <td>602.0</td>\n",
       "      <td>148.0</td>\n",
       "      <td>0.0</td>\n",
       "      <td>161.0</td>\n",
       "      <td>Rory Kinnear</td>\n",
       "      <td>11000.0</td>\n",
       "      <td>200074175.0</td>\n",
       "      <td>Action|Adventure|Thriller</td>\n",
       "      <td>Christoph Waltz</td>\n",
       "      <td>Spectre</td>\n",
       "      <td>275868</td>\n",
       "      <td>11700</td>\n",
       "      <td>Stephanie Sigman</td>\n",
       "      <td>1.0</td>\n",
       "      <td>bomb|espionage|sequel|spy|terrorist</td>\n",
       "      <td>http://www.imdb.com/title/tt2379713/?ref_=fn_t...</td>\n",
       "      <td>994.0</td>\n",
       "      <td>English</td>\n",
       "      <td>UK</td>\n",
       "      <td>PG-13</td>\n",
       "      <td>245000000.0</td>\n",
       "      <td>2015.0</td>\n",
       "      <td>393.0</td>\n",
       "      <td>6.8</td>\n",
       "      <td>2.35</td>\n",
       "      <td>85000</td>\n",
       "      <td>-44925825.0</td>\n",
       "    </tr>\n",
       "    <tr>\n",
       "      <th>3</th>\n",
       "      <td>Color</td>\n",
       "      <td>Christopher Nolan</td>\n",
       "      <td>813.0</td>\n",
       "      <td>164.0</td>\n",
       "      <td>22000.0</td>\n",
       "      <td>23000.0</td>\n",
       "      <td>Christian Bale</td>\n",
       "      <td>27000.0</td>\n",
       "      <td>448130642.0</td>\n",
       "      <td>Action|Thriller</td>\n",
       "      <td>Tom Hardy</td>\n",
       "      <td>The Dark Knight Rises</td>\n",
       "      <td>1144337</td>\n",
       "      <td>106759</td>\n",
       "      <td>Joseph Gordon-Levitt</td>\n",
       "      <td>0.0</td>\n",
       "      <td>deception|imprisonment|lawlessness|police offi...</td>\n",
       "      <td>http://www.imdb.com/title/tt1345836/?ref_=fn_t...</td>\n",
       "      <td>2701.0</td>\n",
       "      <td>English</td>\n",
       "      <td>USA</td>\n",
       "      <td>PG-13</td>\n",
       "      <td>250000000.0</td>\n",
       "      <td>2012.0</td>\n",
       "      <td>23000.0</td>\n",
       "      <td>8.5</td>\n",
       "      <td>2.35</td>\n",
       "      <td>164000</td>\n",
       "      <td>198130642.0</td>\n",
       "    </tr>\n",
       "    <tr>\n",
       "      <th>5</th>\n",
       "      <td>Color</td>\n",
       "      <td>Andrew Stanton</td>\n",
       "      <td>462.0</td>\n",
       "      <td>132.0</td>\n",
       "      <td>475.0</td>\n",
       "      <td>530.0</td>\n",
       "      <td>Samantha Morton</td>\n",
       "      <td>640.0</td>\n",
       "      <td>73058679.0</td>\n",
       "      <td>Action|Adventure|Sci-Fi</td>\n",
       "      <td>Daryl Sabara</td>\n",
       "      <td>John Carter</td>\n",
       "      <td>212204</td>\n",
       "      <td>1873</td>\n",
       "      <td>Polly Walker</td>\n",
       "      <td>1.0</td>\n",
       "      <td>alien|american civil war|male nipple|mars|prin...</td>\n",
       "      <td>http://www.imdb.com/title/tt0401729/?ref_=fn_t...</td>\n",
       "      <td>738.0</td>\n",
       "      <td>English</td>\n",
       "      <td>USA</td>\n",
       "      <td>PG-13</td>\n",
       "      <td>263700000.0</td>\n",
       "      <td>2012.0</td>\n",
       "      <td>632.0</td>\n",
       "      <td>6.6</td>\n",
       "      <td>2.35</td>\n",
       "      <td>24000</td>\n",
       "      <td>-190641321.0</td>\n",
       "    </tr>\n",
       "  </tbody>\n",
       "</table>\n",
       "</div>"
      ],
      "text/plain": [
       "   color      director_name  num_critic_for_reviews  duration  \\\n",
       "0  Color      James Cameron                   723.0     178.0   \n",
       "1  Color     Gore Verbinski                   302.0     169.0   \n",
       "2  Color         Sam Mendes                   602.0     148.0   \n",
       "3  Color  Christopher Nolan                   813.0     164.0   \n",
       "5  Color     Andrew Stanton                   462.0     132.0   \n",
       "\n",
       "   director_facebook_likes  actor_3_facebook_likes      actor_2_name  \\\n",
       "0                      0.0                   855.0  Joel David Moore   \n",
       "1                    563.0                  1000.0     Orlando Bloom   \n",
       "2                      0.0                   161.0      Rory Kinnear   \n",
       "3                  22000.0                 23000.0    Christian Bale   \n",
       "5                    475.0                   530.0   Samantha Morton   \n",
       "\n",
       "   actor_1_facebook_likes        gross                           genres  \\\n",
       "0                  1000.0  760505847.0  Action|Adventure|Fantasy|Sci-Fi   \n",
       "1                 40000.0  309404152.0         Action|Adventure|Fantasy   \n",
       "2                 11000.0  200074175.0        Action|Adventure|Thriller   \n",
       "3                 27000.0  448130642.0                  Action|Thriller   \n",
       "5                   640.0   73058679.0          Action|Adventure|Sci-Fi   \n",
       "\n",
       "      actor_1_name                                movie_title  \\\n",
       "0      CCH Pounder                                    Avatar    \n",
       "1      Johnny Depp  Pirates of the Caribbean: At World's End    \n",
       "2  Christoph Waltz                                   Spectre    \n",
       "3        Tom Hardy                     The Dark Knight Rises    \n",
       "5     Daryl Sabara                               John Carter    \n",
       "\n",
       "   num_voted_users  cast_total_facebook_likes          actor_3_name  \\\n",
       "0           886204                       4834             Wes Studi   \n",
       "1           471220                      48350        Jack Davenport   \n",
       "2           275868                      11700      Stephanie Sigman   \n",
       "3          1144337                     106759  Joseph Gordon-Levitt   \n",
       "5           212204                       1873          Polly Walker   \n",
       "\n",
       "   facenumber_in_poster                                      plot_keywords  \\\n",
       "0                   0.0             avatar|future|marine|native|paraplegic   \n",
       "1                   0.0  goddess|marriage ceremony|marriage proposal|pi...   \n",
       "2                   1.0                bomb|espionage|sequel|spy|terrorist   \n",
       "3                   0.0  deception|imprisonment|lawlessness|police offi...   \n",
       "5                   1.0  alien|american civil war|male nipple|mars|prin...   \n",
       "\n",
       "                                     movie_imdb_link  num_user_for_reviews  \\\n",
       "0  http://www.imdb.com/title/tt0499549/?ref_=fn_t...                3054.0   \n",
       "1  http://www.imdb.com/title/tt0449088/?ref_=fn_t...                1238.0   \n",
       "2  http://www.imdb.com/title/tt2379713/?ref_=fn_t...                 994.0   \n",
       "3  http://www.imdb.com/title/tt1345836/?ref_=fn_t...                2701.0   \n",
       "5  http://www.imdb.com/title/tt0401729/?ref_=fn_t...                 738.0   \n",
       "\n",
       "  language country content_rating       budget  title_year  \\\n",
       "0  English     USA          PG-13  237000000.0      2009.0   \n",
       "1  English     USA          PG-13  300000000.0      2007.0   \n",
       "2  English      UK          PG-13  245000000.0      2015.0   \n",
       "3  English     USA          PG-13  250000000.0      2012.0   \n",
       "5  English     USA          PG-13  263700000.0      2012.0   \n",
       "\n",
       "   actor_2_facebook_likes  imdb_score  aspect_ratio  movie_facebook_likes  \\\n",
       "0                   936.0         7.9          1.78                 33000   \n",
       "1                  5000.0         7.1          2.35                     0   \n",
       "2                   393.0         6.8          2.35                 85000   \n",
       "3                 23000.0         8.5          2.35                164000   \n",
       "5                   632.0         6.6          2.35                 24000   \n",
       "\n",
       "        profit  \n",
       "0  523505847.0  \n",
       "1    9404152.0  \n",
       "2  -44925825.0  \n",
       "3  198130642.0  \n",
       "5 -190641321.0  "
      ]
     },
     "execution_count": 5,
     "metadata": {},
     "output_type": "execute_result"
    }
   ],
   "source": [
    "#data cleaning\n",
    "df_raw.dropna(inplace = True)\n",
    "df_raw.drop_duplicates(inplace= True)\n",
    "df_raw.head()"
   ]
  },
  {
   "cell_type": "code",
   "execution_count": 6,
   "id": "5e93c0c8",
   "metadata": {
    "execution": {
     "iopub.execute_input": "2021-11-25T09:04:28.683659Z",
     "iopub.status.busy": "2021-11-25T09:04:28.683017Z",
     "iopub.status.idle": "2021-11-25T09:04:28.735055Z",
     "shell.execute_reply": "2021-11-25T09:04:28.735549Z",
     "shell.execute_reply.started": "2021-11-25T08:58:44.992774Z"
    },
    "id": "RhreBpr4ocbZ",
    "outputId": "83e3a723-493a-469d-8520-ddb0aa2b9ef2",
    "papermill": {
     "duration": 0.086849,
     "end_time": "2021-11-25T09:04:28.735736",
     "exception": false,
     "start_time": "2021-11-25T09:04:28.648887",
     "status": "completed"
    },
    "tags": []
   },
   "outputs": [
    {
     "data": {
      "text/html": [
       "<div>\n",
       "<style scoped>\n",
       "    .dataframe tbody tr th:only-of-type {\n",
       "        vertical-align: middle;\n",
       "    }\n",
       "\n",
       "    .dataframe tbody tr th {\n",
       "        vertical-align: top;\n",
       "    }\n",
       "\n",
       "    .dataframe thead th {\n",
       "        text-align: right;\n",
       "    }\n",
       "</style>\n",
       "<table border=\"1\" class=\"dataframe\">\n",
       "  <thead>\n",
       "    <tr style=\"text-align: right;\">\n",
       "      <th></th>\n",
       "      <th>num_critic_for_reviews</th>\n",
       "      <th>duration</th>\n",
       "      <th>director_facebook_likes</th>\n",
       "      <th>actor_3_facebook_likes</th>\n",
       "      <th>actor_1_facebook_likes</th>\n",
       "      <th>gross</th>\n",
       "      <th>num_voted_users</th>\n",
       "      <th>cast_total_facebook_likes</th>\n",
       "      <th>facenumber_in_poster</th>\n",
       "      <th>num_user_for_reviews</th>\n",
       "      <th>budget</th>\n",
       "      <th>title_year</th>\n",
       "      <th>actor_2_facebook_likes</th>\n",
       "      <th>imdb_score</th>\n",
       "      <th>aspect_ratio</th>\n",
       "      <th>movie_facebook_likes</th>\n",
       "      <th>profit</th>\n",
       "    </tr>\n",
       "  </thead>\n",
       "  <tbody>\n",
       "    <tr>\n",
       "      <th>count</th>\n",
       "      <td>3723.000000</td>\n",
       "      <td>3723.000000</td>\n",
       "      <td>3723.000000</td>\n",
       "      <td>3723.000000</td>\n",
       "      <td>3723.000000</td>\n",
       "      <td>3.723000e+03</td>\n",
       "      <td>3.723000e+03</td>\n",
       "      <td>3723.000000</td>\n",
       "      <td>3723.000000</td>\n",
       "      <td>3723.000000</td>\n",
       "      <td>3.723000e+03</td>\n",
       "      <td>3723.000000</td>\n",
       "      <td>3723.000000</td>\n",
       "      <td>3723.000000</td>\n",
       "      <td>3723.000000</td>\n",
       "      <td>3723.000000</td>\n",
       "      <td>3.723000e+03</td>\n",
       "    </tr>\n",
       "    <tr>\n",
       "      <th>mean</th>\n",
       "      <td>167.040559</td>\n",
       "      <td>110.263497</td>\n",
       "      <td>809.864357</td>\n",
       "      <td>765.010207</td>\n",
       "      <td>7743.335751</td>\n",
       "      <td>5.248034e+07</td>\n",
       "      <td>1.055543e+05</td>\n",
       "      <td>11494.966694</td>\n",
       "      <td>1.376041</td>\n",
       "      <td>335.897663</td>\n",
       "      <td>4.623049e+07</td>\n",
       "      <td>2002.965351</td>\n",
       "      <td>2009.926403</td>\n",
       "      <td>6.465673</td>\n",
       "      <td>2.110682</td>\n",
       "      <td>9299.497717</td>\n",
       "      <td>6.249847e+06</td>\n",
       "    </tr>\n",
       "    <tr>\n",
       "      <th>std</th>\n",
       "      <td>123.345135</td>\n",
       "      <td>22.678325</td>\n",
       "      <td>3076.624412</td>\n",
       "      <td>1868.841589</td>\n",
       "      <td>15557.953218</td>\n",
       "      <td>6.980333e+07</td>\n",
       "      <td>1.515651e+05</td>\n",
       "      <td>19113.274232</td>\n",
       "      <td>2.045134</td>\n",
       "      <td>411.078619</td>\n",
       "      <td>2.269511e+08</td>\n",
       "      <td>9.892253</td>\n",
       "      <td>4531.151446</td>\n",
       "      <td>1.053644</td>\n",
       "      <td>0.353879</td>\n",
       "      <td>21426.654643</td>\n",
       "      <td>2.307904e+08</td>\n",
       "    </tr>\n",
       "    <tr>\n",
       "      <th>min</th>\n",
       "      <td>2.000000</td>\n",
       "      <td>37.000000</td>\n",
       "      <td>0.000000</td>\n",
       "      <td>0.000000</td>\n",
       "      <td>0.000000</td>\n",
       "      <td>1.620000e+02</td>\n",
       "      <td>9.100000e+01</td>\n",
       "      <td>0.000000</td>\n",
       "      <td>0.000000</td>\n",
       "      <td>4.000000</td>\n",
       "      <td>2.180000e+02</td>\n",
       "      <td>1927.000000</td>\n",
       "      <td>0.000000</td>\n",
       "      <td>1.600000</td>\n",
       "      <td>1.180000</td>\n",
       "      <td>0.000000</td>\n",
       "      <td>-1.221330e+10</td>\n",
       "    </tr>\n",
       "    <tr>\n",
       "      <th>25%</th>\n",
       "      <td>77.000000</td>\n",
       "      <td>96.000000</td>\n",
       "      <td>11.000000</td>\n",
       "      <td>194.000000</td>\n",
       "      <td>744.500000</td>\n",
       "      <td>8.124330e+06</td>\n",
       "      <td>1.959850e+04</td>\n",
       "      <td>1907.000000</td>\n",
       "      <td>0.000000</td>\n",
       "      <td>109.000000</td>\n",
       "      <td>1.000000e+07</td>\n",
       "      <td>1999.000000</td>\n",
       "      <td>383.500000</td>\n",
       "      <td>5.900000</td>\n",
       "      <td>1.850000</td>\n",
       "      <td>0.000000</td>\n",
       "      <td>-1.045723e+07</td>\n",
       "    </tr>\n",
       "    <tr>\n",
       "      <th>50%</th>\n",
       "      <td>138.000000</td>\n",
       "      <td>106.000000</td>\n",
       "      <td>63.000000</td>\n",
       "      <td>436.000000</td>\n",
       "      <td>1000.000000</td>\n",
       "      <td>3.005003e+07</td>\n",
       "      <td>5.397700e+04</td>\n",
       "      <td>4050.000000</td>\n",
       "      <td>1.000000</td>\n",
       "      <td>209.000000</td>\n",
       "      <td>2.500000e+07</td>\n",
       "      <td>2004.000000</td>\n",
       "      <td>683.000000</td>\n",
       "      <td>6.600000</td>\n",
       "      <td>2.350000</td>\n",
       "      <td>226.000000</td>\n",
       "      <td>1.590010e+06</td>\n",
       "    </tr>\n",
       "    <tr>\n",
       "      <th>75%</th>\n",
       "      <td>224.000000</td>\n",
       "      <td>120.000000</td>\n",
       "      <td>235.000000</td>\n",
       "      <td>690.000000</td>\n",
       "      <td>13000.000000</td>\n",
       "      <td>6.690181e+07</td>\n",
       "      <td>1.285240e+05</td>\n",
       "      <td>16232.500000</td>\n",
       "      <td>2.000000</td>\n",
       "      <td>398.000000</td>\n",
       "      <td>5.000000e+07</td>\n",
       "      <td>2010.000000</td>\n",
       "      <td>975.000000</td>\n",
       "      <td>7.200000</td>\n",
       "      <td>2.350000</td>\n",
       "      <td>11000.000000</td>\n",
       "      <td>2.575094e+07</td>\n",
       "    </tr>\n",
       "    <tr>\n",
       "      <th>max</th>\n",
       "      <td>813.000000</td>\n",
       "      <td>330.000000</td>\n",
       "      <td>23000.000000</td>\n",
       "      <td>23000.000000</td>\n",
       "      <td>640000.000000</td>\n",
       "      <td>7.605058e+08</td>\n",
       "      <td>1.689764e+06</td>\n",
       "      <td>656730.000000</td>\n",
       "      <td>43.000000</td>\n",
       "      <td>5060.000000</td>\n",
       "      <td>1.221550e+10</td>\n",
       "      <td>2016.000000</td>\n",
       "      <td>137000.000000</td>\n",
       "      <td>9.300000</td>\n",
       "      <td>16.000000</td>\n",
       "      <td>349000.000000</td>\n",
       "      <td>5.235058e+08</td>\n",
       "    </tr>\n",
       "  </tbody>\n",
       "</table>\n",
       "</div>"
      ],
      "text/plain": [
       "       num_critic_for_reviews     duration  director_facebook_likes  \\\n",
       "count             3723.000000  3723.000000              3723.000000   \n",
       "mean               167.040559   110.263497               809.864357   \n",
       "std                123.345135    22.678325              3076.624412   \n",
       "min                  2.000000    37.000000                 0.000000   \n",
       "25%                 77.000000    96.000000                11.000000   \n",
       "50%                138.000000   106.000000                63.000000   \n",
       "75%                224.000000   120.000000               235.000000   \n",
       "max                813.000000   330.000000             23000.000000   \n",
       "\n",
       "       actor_3_facebook_likes  actor_1_facebook_likes         gross  \\\n",
       "count             3723.000000             3723.000000  3.723000e+03   \n",
       "mean               765.010207             7743.335751  5.248034e+07   \n",
       "std               1868.841589            15557.953218  6.980333e+07   \n",
       "min                  0.000000                0.000000  1.620000e+02   \n",
       "25%                194.000000              744.500000  8.124330e+06   \n",
       "50%                436.000000             1000.000000  3.005003e+07   \n",
       "75%                690.000000            13000.000000  6.690181e+07   \n",
       "max              23000.000000           640000.000000  7.605058e+08   \n",
       "\n",
       "       num_voted_users  cast_total_facebook_likes  facenumber_in_poster  \\\n",
       "count     3.723000e+03                3723.000000           3723.000000   \n",
       "mean      1.055543e+05               11494.966694              1.376041   \n",
       "std       1.515651e+05               19113.274232              2.045134   \n",
       "min       9.100000e+01                   0.000000              0.000000   \n",
       "25%       1.959850e+04                1907.000000              0.000000   \n",
       "50%       5.397700e+04                4050.000000              1.000000   \n",
       "75%       1.285240e+05               16232.500000              2.000000   \n",
       "max       1.689764e+06              656730.000000             43.000000   \n",
       "\n",
       "       num_user_for_reviews        budget   title_year  \\\n",
       "count           3723.000000  3.723000e+03  3723.000000   \n",
       "mean             335.897663  4.623049e+07  2002.965351   \n",
       "std              411.078619  2.269511e+08     9.892253   \n",
       "min                4.000000  2.180000e+02  1927.000000   \n",
       "25%              109.000000  1.000000e+07  1999.000000   \n",
       "50%              209.000000  2.500000e+07  2004.000000   \n",
       "75%              398.000000  5.000000e+07  2010.000000   \n",
       "max             5060.000000  1.221550e+10  2016.000000   \n",
       "\n",
       "       actor_2_facebook_likes   imdb_score  aspect_ratio  \\\n",
       "count             3723.000000  3723.000000   3723.000000   \n",
       "mean              2009.926403     6.465673      2.110682   \n",
       "std               4531.151446     1.053644      0.353879   \n",
       "min                  0.000000     1.600000      1.180000   \n",
       "25%                383.500000     5.900000      1.850000   \n",
       "50%                683.000000     6.600000      2.350000   \n",
       "75%                975.000000     7.200000      2.350000   \n",
       "max             137000.000000     9.300000     16.000000   \n",
       "\n",
       "       movie_facebook_likes        profit  \n",
       "count           3723.000000  3.723000e+03  \n",
       "mean            9299.497717  6.249847e+06  \n",
       "std            21426.654643  2.307904e+08  \n",
       "min                0.000000 -1.221330e+10  \n",
       "25%                0.000000 -1.045723e+07  \n",
       "50%              226.000000  1.590010e+06  \n",
       "75%            11000.000000  2.575094e+07  \n",
       "max           349000.000000  5.235058e+08  "
      ]
     },
     "execution_count": 6,
     "metadata": {},
     "output_type": "execute_result"
    }
   ],
   "source": [
    "#To just check the summary of the data available to us\n",
    "df_raw.describe()"
   ]
  },
  {
   "cell_type": "markdown",
   "id": "f22e36ea",
   "metadata": {
    "id": "E532pos2fG-D",
    "papermill": {
     "duration": 0.027123,
     "end_time": "2021-11-25T09:04:28.790223",
     "exception": false,
     "start_time": "2021-11-25T09:04:28.763100",
     "status": "completed"
    },
    "tags": []
   },
   "source": [
    "Let us have a quick check on the correlation between different numerical data available in the given imdb dataset. From this we can get a rough idea that only the **gross** and **num_voted_users** have considerable correlation with the profit among other numerical parameters. But the **num_voted_users** we are not considering for the analysis because the votes are made after the movie is seen by the user and is an external parameter which we are not able to control."
   ]
  },
  {
   "cell_type": "code",
   "execution_count": 7,
   "id": "b717b7a4",
   "metadata": {
    "execution": {
     "iopub.execute_input": "2021-11-25T09:04:28.849776Z",
     "iopub.status.busy": "2021-11-25T09:04:28.849118Z",
     "iopub.status.idle": "2021-11-25T09:04:28.878478Z",
     "shell.execute_reply": "2021-11-25T09:04:28.878003Z",
     "shell.execute_reply.started": "2021-11-25T08:58:45.054281Z"
    },
    "id": "m76LAFRheQ61",
    "outputId": "affb5bc6-f856-46bf-c133-0a7e6044cefb",
    "papermill": {
     "duration": 0.061403,
     "end_time": "2021-11-25T09:04:28.878644",
     "exception": false,
     "start_time": "2021-11-25T09:04:28.817241",
     "status": "completed"
    },
    "tags": []
   },
   "outputs": [
    {
     "data": {
      "text/html": [
       "<div>\n",
       "<style scoped>\n",
       "    .dataframe tbody tr th:only-of-type {\n",
       "        vertical-align: middle;\n",
       "    }\n",
       "\n",
       "    .dataframe tbody tr th {\n",
       "        vertical-align: top;\n",
       "    }\n",
       "\n",
       "    .dataframe thead th {\n",
       "        text-align: right;\n",
       "    }\n",
       "</style>\n",
       "<table border=\"1\" class=\"dataframe\">\n",
       "  <thead>\n",
       "    <tr style=\"text-align: right;\">\n",
       "      <th></th>\n",
       "      <th>num_critic_for_reviews</th>\n",
       "      <th>duration</th>\n",
       "      <th>director_facebook_likes</th>\n",
       "      <th>actor_3_facebook_likes</th>\n",
       "      <th>actor_1_facebook_likes</th>\n",
       "      <th>gross</th>\n",
       "      <th>num_voted_users</th>\n",
       "      <th>cast_total_facebook_likes</th>\n",
       "      <th>facenumber_in_poster</th>\n",
       "      <th>num_user_for_reviews</th>\n",
       "      <th>budget</th>\n",
       "      <th>title_year</th>\n",
       "      <th>actor_2_facebook_likes</th>\n",
       "      <th>imdb_score</th>\n",
       "      <th>aspect_ratio</th>\n",
       "      <th>movie_facebook_likes</th>\n",
       "      <th>profit</th>\n",
       "    </tr>\n",
       "  </thead>\n",
       "  <tbody>\n",
       "    <tr>\n",
       "      <th>num_critic_for_reviews</th>\n",
       "      <td>1.000000</td>\n",
       "      <td>0.227619</td>\n",
       "      <td>0.175715</td>\n",
       "      <td>0.245440</td>\n",
       "      <td>0.165648</td>\n",
       "      <td>0.460797</td>\n",
       "      <td>0.591586</td>\n",
       "      <td>0.233781</td>\n",
       "      <td>-0.035603</td>\n",
       "      <td>0.562596</td>\n",
       "      <td>0.103921</td>\n",
       "      <td>0.420184</td>\n",
       "      <td>0.251119</td>\n",
       "      <td>0.349825</td>\n",
       "      <td>0.179809</td>\n",
       "      <td>0.703579</td>\n",
       "      <td>0.037177</td>\n",
       "    </tr>\n",
       "    <tr>\n",
       "      <th>duration</th>\n",
       "      <td>0.227619</td>\n",
       "      <td>1.000000</td>\n",
       "      <td>0.180397</td>\n",
       "      <td>0.120776</td>\n",
       "      <td>0.082901</td>\n",
       "      <td>0.242610</td>\n",
       "      <td>0.338953</td>\n",
       "      <td>0.117736</td>\n",
       "      <td>0.027522</td>\n",
       "      <td>0.352083</td>\n",
       "      <td>0.067380</td>\n",
       "      <td>-0.131689</td>\n",
       "      <td>0.126651</td>\n",
       "      <td>0.367388</td>\n",
       "      <td>0.153353</td>\n",
       "      <td>0.212977</td>\n",
       "      <td>0.007119</td>\n",
       "    </tr>\n",
       "    <tr>\n",
       "      <th>director_facebook_likes</th>\n",
       "      <td>0.175715</td>\n",
       "      <td>0.180397</td>\n",
       "      <td>1.000000</td>\n",
       "      <td>0.120584</td>\n",
       "      <td>0.090467</td>\n",
       "      <td>0.139729</td>\n",
       "      <td>0.302766</td>\n",
       "      <td>0.120076</td>\n",
       "      <td>-0.047577</td>\n",
       "      <td>0.218876</td>\n",
       "      <td>0.018105</td>\n",
       "      <td>-0.045718</td>\n",
       "      <td>0.117858</td>\n",
       "      <td>0.193125</td>\n",
       "      <td>0.037171</td>\n",
       "      <td>0.162641</td>\n",
       "      <td>0.024457</td>\n",
       "    </tr>\n",
       "    <tr>\n",
       "      <th>actor_3_facebook_likes</th>\n",
       "      <td>0.245440</td>\n",
       "      <td>0.120776</td>\n",
       "      <td>0.120584</td>\n",
       "      <td>1.000000</td>\n",
       "      <td>0.252450</td>\n",
       "      <td>0.281238</td>\n",
       "      <td>0.257632</td>\n",
       "      <td>0.485596</td>\n",
       "      <td>0.104853</td>\n",
       "      <td>0.200485</td>\n",
       "      <td>0.038207</td>\n",
       "      <td>0.116479</td>\n",
       "      <td>0.550328</td>\n",
       "      <td>0.064187</td>\n",
       "      <td>0.047918</td>\n",
       "      <td>0.259922</td>\n",
       "      <td>0.047490</td>\n",
       "    </tr>\n",
       "    <tr>\n",
       "      <th>actor_1_facebook_likes</th>\n",
       "      <td>0.165648</td>\n",
       "      <td>0.082901</td>\n",
       "      <td>0.090467</td>\n",
       "      <td>0.252450</td>\n",
       "      <td>1.000000</td>\n",
       "      <td>0.142577</td>\n",
       "      <td>0.178009</td>\n",
       "      <td>0.946075</td>\n",
       "      <td>0.055769</td>\n",
       "      <td>0.121393</td>\n",
       "      <td>0.016027</td>\n",
       "      <td>0.095997</td>\n",
       "      <td>0.390411</td>\n",
       "      <td>0.092927</td>\n",
       "      <td>0.056816</td>\n",
       "      <td>0.128804</td>\n",
       "      <td>0.027363</td>\n",
       "    </tr>\n",
       "    <tr>\n",
       "      <th>gross</th>\n",
       "      <td>0.460797</td>\n",
       "      <td>0.242610</td>\n",
       "      <td>0.139729</td>\n",
       "      <td>0.281238</td>\n",
       "      <td>0.142577</td>\n",
       "      <td>1.000000</td>\n",
       "      <td>0.622714</td>\n",
       "      <td>0.227955</td>\n",
       "      <td>-0.034389</td>\n",
       "      <td>0.545656</td>\n",
       "      <td>0.098318</td>\n",
       "      <td>0.053163</td>\n",
       "      <td>0.243977</td>\n",
       "      <td>0.215510</td>\n",
       "      <td>0.065903</td>\n",
       "      <td>0.358630</td>\n",
       "      <td>0.205771</td>\n",
       "    </tr>\n",
       "    <tr>\n",
       "      <th>num_voted_users</th>\n",
       "      <td>0.591586</td>\n",
       "      <td>0.338953</td>\n",
       "      <td>0.302766</td>\n",
       "      <td>0.257632</td>\n",
       "      <td>0.178009</td>\n",
       "      <td>0.622714</td>\n",
       "      <td>1.000000</td>\n",
       "      <td>0.243834</td>\n",
       "      <td>-0.035822</td>\n",
       "      <td>0.779191</td>\n",
       "      <td>0.065398</td>\n",
       "      <td>0.023488</td>\n",
       "      <td>0.239126</td>\n",
       "      <td>0.482583</td>\n",
       "      <td>0.087079</td>\n",
       "      <td>0.514855</td>\n",
       "      <td>0.124032</td>\n",
       "    </tr>\n",
       "    <tr>\n",
       "      <th>cast_total_facebook_likes</th>\n",
       "      <td>0.233781</td>\n",
       "      <td>0.117736</td>\n",
       "      <td>0.120076</td>\n",
       "      <td>0.485596</td>\n",
       "      <td>0.946075</td>\n",
       "      <td>0.227955</td>\n",
       "      <td>0.243834</td>\n",
       "      <td>1.000000</td>\n",
       "      <td>0.078250</td>\n",
       "      <td>0.176231</td>\n",
       "      <td>0.027670</td>\n",
       "      <td>0.126650</td>\n",
       "      <td>0.640366</td>\n",
       "      <td>0.105397</td>\n",
       "      <td>0.069464</td>\n",
       "      <td>0.199995</td>\n",
       "      <td>0.041736</td>\n",
       "    </tr>\n",
       "    <tr>\n",
       "      <th>facenumber_in_poster</th>\n",
       "      <td>-0.035603</td>\n",
       "      <td>0.027522</td>\n",
       "      <td>-0.047577</td>\n",
       "      <td>0.104853</td>\n",
       "      <td>0.055769</td>\n",
       "      <td>-0.034389</td>\n",
       "      <td>-0.035822</td>\n",
       "      <td>0.078250</td>\n",
       "      <td>1.000000</td>\n",
       "      <td>-0.082542</td>\n",
       "      <td>-0.022107</td>\n",
       "      <td>0.069622</td>\n",
       "      <td>0.070261</td>\n",
       "      <td>-0.067010</td>\n",
       "      <td>0.019358</td>\n",
       "      <td>0.012960</td>\n",
       "      <td>0.011339</td>\n",
       "    </tr>\n",
       "    <tr>\n",
       "      <th>num_user_for_reviews</th>\n",
       "      <td>0.562596</td>\n",
       "      <td>0.352083</td>\n",
       "      <td>0.218876</td>\n",
       "      <td>0.200485</td>\n",
       "      <td>0.121393</td>\n",
       "      <td>0.545656</td>\n",
       "      <td>0.779191</td>\n",
       "      <td>0.176231</td>\n",
       "      <td>-0.082542</td>\n",
       "      <td>1.000000</td>\n",
       "      <td>0.070271</td>\n",
       "      <td>0.020059</td>\n",
       "      <td>0.184704</td>\n",
       "      <td>0.325026</td>\n",
       "      <td>0.098260</td>\n",
       "      <td>0.368575</td>\n",
       "      <td>0.095933</td>\n",
       "    </tr>\n",
       "    <tr>\n",
       "      <th>budget</th>\n",
       "      <td>0.103921</td>\n",
       "      <td>0.067380</td>\n",
       "      <td>0.018105</td>\n",
       "      <td>0.038207</td>\n",
       "      <td>0.016027</td>\n",
       "      <td>0.098318</td>\n",
       "      <td>0.065398</td>\n",
       "      <td>0.027670</td>\n",
       "      <td>-0.022107</td>\n",
       "      <td>0.070271</td>\n",
       "      <td>1.000000</td>\n",
       "      <td>0.046340</td>\n",
       "      <td>0.034691</td>\n",
       "      <td>0.029462</td>\n",
       "      <td>0.024978</td>\n",
       "      <td>0.051059</td>\n",
       "      <td>-0.953628</td>\n",
       "    </tr>\n",
       "    <tr>\n",
       "      <th>title_year</th>\n",
       "      <td>0.420184</td>\n",
       "      <td>-0.131689</td>\n",
       "      <td>-0.045718</td>\n",
       "      <td>0.116479</td>\n",
       "      <td>0.095997</td>\n",
       "      <td>0.053163</td>\n",
       "      <td>0.023488</td>\n",
       "      <td>0.126650</td>\n",
       "      <td>0.069622</td>\n",
       "      <td>0.020059</td>\n",
       "      <td>0.046340</td>\n",
       "      <td>1.000000</td>\n",
       "      <td>0.123050</td>\n",
       "      <td>-0.132274</td>\n",
       "      <td>0.215610</td>\n",
       "      <td>0.305520</td>\n",
       "      <td>-0.029489</td>\n",
       "    </tr>\n",
       "    <tr>\n",
       "      <th>actor_2_facebook_likes</th>\n",
       "      <td>0.251119</td>\n",
       "      <td>0.126651</td>\n",
       "      <td>0.117858</td>\n",
       "      <td>0.550328</td>\n",
       "      <td>0.390411</td>\n",
       "      <td>0.243977</td>\n",
       "      <td>0.239126</td>\n",
       "      <td>0.640366</td>\n",
       "      <td>0.070261</td>\n",
       "      <td>0.184704</td>\n",
       "      <td>0.034691</td>\n",
       "      <td>0.123050</td>\n",
       "      <td>1.000000</td>\n",
       "      <td>0.100290</td>\n",
       "      <td>0.065212</td>\n",
       "      <td>0.226923</td>\n",
       "      <td>0.039678</td>\n",
       "    </tr>\n",
       "    <tr>\n",
       "      <th>imdb_score</th>\n",
       "      <td>0.349825</td>\n",
       "      <td>0.367388</td>\n",
       "      <td>0.193125</td>\n",
       "      <td>0.064187</td>\n",
       "      <td>0.092927</td>\n",
       "      <td>0.215510</td>\n",
       "      <td>0.482583</td>\n",
       "      <td>0.105397</td>\n",
       "      <td>-0.067010</td>\n",
       "      <td>0.325026</td>\n",
       "      <td>0.029462</td>\n",
       "      <td>-0.132274</td>\n",
       "      <td>0.100290</td>\n",
       "      <td>1.000000</td>\n",
       "      <td>0.031060</td>\n",
       "      <td>0.284034</td>\n",
       "      <td>0.036209</td>\n",
       "    </tr>\n",
       "    <tr>\n",
       "      <th>aspect_ratio</th>\n",
       "      <td>0.179809</td>\n",
       "      <td>0.153353</td>\n",
       "      <td>0.037171</td>\n",
       "      <td>0.047918</td>\n",
       "      <td>0.056816</td>\n",
       "      <td>0.065903</td>\n",
       "      <td>0.087079</td>\n",
       "      <td>0.069464</td>\n",
       "      <td>0.019358</td>\n",
       "      <td>0.098260</td>\n",
       "      <td>0.024978</td>\n",
       "      <td>0.215610</td>\n",
       "      <td>0.065212</td>\n",
       "      <td>0.031060</td>\n",
       "      <td>1.000000</td>\n",
       "      <td>0.110104</td>\n",
       "      <td>-0.004630</td>\n",
       "    </tr>\n",
       "    <tr>\n",
       "      <th>movie_facebook_likes</th>\n",
       "      <td>0.703579</td>\n",
       "      <td>0.212977</td>\n",
       "      <td>0.162641</td>\n",
       "      <td>0.259922</td>\n",
       "      <td>0.128804</td>\n",
       "      <td>0.358630</td>\n",
       "      <td>0.514855</td>\n",
       "      <td>0.199995</td>\n",
       "      <td>0.012960</td>\n",
       "      <td>0.368575</td>\n",
       "      <td>0.051059</td>\n",
       "      <td>0.305520</td>\n",
       "      <td>0.226923</td>\n",
       "      <td>0.284034</td>\n",
       "      <td>0.110104</td>\n",
       "      <td>1.000000</td>\n",
       "      <td>0.058259</td>\n",
       "    </tr>\n",
       "    <tr>\n",
       "      <th>profit</th>\n",
       "      <td>0.037177</td>\n",
       "      <td>0.007119</td>\n",
       "      <td>0.024457</td>\n",
       "      <td>0.047490</td>\n",
       "      <td>0.027363</td>\n",
       "      <td>0.205771</td>\n",
       "      <td>0.124032</td>\n",
       "      <td>0.041736</td>\n",
       "      <td>0.011339</td>\n",
       "      <td>0.095933</td>\n",
       "      <td>-0.953628</td>\n",
       "      <td>-0.029489</td>\n",
       "      <td>0.039678</td>\n",
       "      <td>0.036209</td>\n",
       "      <td>-0.004630</td>\n",
       "      <td>0.058259</td>\n",
       "      <td>1.000000</td>\n",
       "    </tr>\n",
       "  </tbody>\n",
       "</table>\n",
       "</div>"
      ],
      "text/plain": [
       "                           num_critic_for_reviews  duration  \\\n",
       "num_critic_for_reviews                   1.000000  0.227619   \n",
       "duration                                 0.227619  1.000000   \n",
       "director_facebook_likes                  0.175715  0.180397   \n",
       "actor_3_facebook_likes                   0.245440  0.120776   \n",
       "actor_1_facebook_likes                   0.165648  0.082901   \n",
       "gross                                    0.460797  0.242610   \n",
       "num_voted_users                          0.591586  0.338953   \n",
       "cast_total_facebook_likes                0.233781  0.117736   \n",
       "facenumber_in_poster                    -0.035603  0.027522   \n",
       "num_user_for_reviews                     0.562596  0.352083   \n",
       "budget                                   0.103921  0.067380   \n",
       "title_year                               0.420184 -0.131689   \n",
       "actor_2_facebook_likes                   0.251119  0.126651   \n",
       "imdb_score                               0.349825  0.367388   \n",
       "aspect_ratio                             0.179809  0.153353   \n",
       "movie_facebook_likes                     0.703579  0.212977   \n",
       "profit                                   0.037177  0.007119   \n",
       "\n",
       "                           director_facebook_likes  actor_3_facebook_likes  \\\n",
       "num_critic_for_reviews                    0.175715                0.245440   \n",
       "duration                                  0.180397                0.120776   \n",
       "director_facebook_likes                   1.000000                0.120584   \n",
       "actor_3_facebook_likes                    0.120584                1.000000   \n",
       "actor_1_facebook_likes                    0.090467                0.252450   \n",
       "gross                                     0.139729                0.281238   \n",
       "num_voted_users                           0.302766                0.257632   \n",
       "cast_total_facebook_likes                 0.120076                0.485596   \n",
       "facenumber_in_poster                     -0.047577                0.104853   \n",
       "num_user_for_reviews                      0.218876                0.200485   \n",
       "budget                                    0.018105                0.038207   \n",
       "title_year                               -0.045718                0.116479   \n",
       "actor_2_facebook_likes                    0.117858                0.550328   \n",
       "imdb_score                                0.193125                0.064187   \n",
       "aspect_ratio                              0.037171                0.047918   \n",
       "movie_facebook_likes                      0.162641                0.259922   \n",
       "profit                                    0.024457                0.047490   \n",
       "\n",
       "                           actor_1_facebook_likes     gross  num_voted_users  \\\n",
       "num_critic_for_reviews                   0.165648  0.460797         0.591586   \n",
       "duration                                 0.082901  0.242610         0.338953   \n",
       "director_facebook_likes                  0.090467  0.139729         0.302766   \n",
       "actor_3_facebook_likes                   0.252450  0.281238         0.257632   \n",
       "actor_1_facebook_likes                   1.000000  0.142577         0.178009   \n",
       "gross                                    0.142577  1.000000         0.622714   \n",
       "num_voted_users                          0.178009  0.622714         1.000000   \n",
       "cast_total_facebook_likes                0.946075  0.227955         0.243834   \n",
       "facenumber_in_poster                     0.055769 -0.034389        -0.035822   \n",
       "num_user_for_reviews                     0.121393  0.545656         0.779191   \n",
       "budget                                   0.016027  0.098318         0.065398   \n",
       "title_year                               0.095997  0.053163         0.023488   \n",
       "actor_2_facebook_likes                   0.390411  0.243977         0.239126   \n",
       "imdb_score                               0.092927  0.215510         0.482583   \n",
       "aspect_ratio                             0.056816  0.065903         0.087079   \n",
       "movie_facebook_likes                     0.128804  0.358630         0.514855   \n",
       "profit                                   0.027363  0.205771         0.124032   \n",
       "\n",
       "                           cast_total_facebook_likes  facenumber_in_poster  \\\n",
       "num_critic_for_reviews                      0.233781             -0.035603   \n",
       "duration                                    0.117736              0.027522   \n",
       "director_facebook_likes                     0.120076             -0.047577   \n",
       "actor_3_facebook_likes                      0.485596              0.104853   \n",
       "actor_1_facebook_likes                      0.946075              0.055769   \n",
       "gross                                       0.227955             -0.034389   \n",
       "num_voted_users                             0.243834             -0.035822   \n",
       "cast_total_facebook_likes                   1.000000              0.078250   \n",
       "facenumber_in_poster                        0.078250              1.000000   \n",
       "num_user_for_reviews                        0.176231             -0.082542   \n",
       "budget                                      0.027670             -0.022107   \n",
       "title_year                                  0.126650              0.069622   \n",
       "actor_2_facebook_likes                      0.640366              0.070261   \n",
       "imdb_score                                  0.105397             -0.067010   \n",
       "aspect_ratio                                0.069464              0.019358   \n",
       "movie_facebook_likes                        0.199995              0.012960   \n",
       "profit                                      0.041736              0.011339   \n",
       "\n",
       "                           num_user_for_reviews    budget  title_year  \\\n",
       "num_critic_for_reviews                 0.562596  0.103921    0.420184   \n",
       "duration                               0.352083  0.067380   -0.131689   \n",
       "director_facebook_likes                0.218876  0.018105   -0.045718   \n",
       "actor_3_facebook_likes                 0.200485  0.038207    0.116479   \n",
       "actor_1_facebook_likes                 0.121393  0.016027    0.095997   \n",
       "gross                                  0.545656  0.098318    0.053163   \n",
       "num_voted_users                        0.779191  0.065398    0.023488   \n",
       "cast_total_facebook_likes              0.176231  0.027670    0.126650   \n",
       "facenumber_in_poster                  -0.082542 -0.022107    0.069622   \n",
       "num_user_for_reviews                   1.000000  0.070271    0.020059   \n",
       "budget                                 0.070271  1.000000    0.046340   \n",
       "title_year                             0.020059  0.046340    1.000000   \n",
       "actor_2_facebook_likes                 0.184704  0.034691    0.123050   \n",
       "imdb_score                             0.325026  0.029462   -0.132274   \n",
       "aspect_ratio                           0.098260  0.024978    0.215610   \n",
       "movie_facebook_likes                   0.368575  0.051059    0.305520   \n",
       "profit                                 0.095933 -0.953628   -0.029489   \n",
       "\n",
       "                           actor_2_facebook_likes  imdb_score  aspect_ratio  \\\n",
       "num_critic_for_reviews                   0.251119    0.349825      0.179809   \n",
       "duration                                 0.126651    0.367388      0.153353   \n",
       "director_facebook_likes                  0.117858    0.193125      0.037171   \n",
       "actor_3_facebook_likes                   0.550328    0.064187      0.047918   \n",
       "actor_1_facebook_likes                   0.390411    0.092927      0.056816   \n",
       "gross                                    0.243977    0.215510      0.065903   \n",
       "num_voted_users                          0.239126    0.482583      0.087079   \n",
       "cast_total_facebook_likes                0.640366    0.105397      0.069464   \n",
       "facenumber_in_poster                     0.070261   -0.067010      0.019358   \n",
       "num_user_for_reviews                     0.184704    0.325026      0.098260   \n",
       "budget                                   0.034691    0.029462      0.024978   \n",
       "title_year                               0.123050   -0.132274      0.215610   \n",
       "actor_2_facebook_likes                   1.000000    0.100290      0.065212   \n",
       "imdb_score                               0.100290    1.000000      0.031060   \n",
       "aspect_ratio                             0.065212    0.031060      1.000000   \n",
       "movie_facebook_likes                     0.226923    0.284034      0.110104   \n",
       "profit                                   0.039678    0.036209     -0.004630   \n",
       "\n",
       "                           movie_facebook_likes    profit  \n",
       "num_critic_for_reviews                 0.703579  0.037177  \n",
       "duration                               0.212977  0.007119  \n",
       "director_facebook_likes                0.162641  0.024457  \n",
       "actor_3_facebook_likes                 0.259922  0.047490  \n",
       "actor_1_facebook_likes                 0.128804  0.027363  \n",
       "gross                                  0.358630  0.205771  \n",
       "num_voted_users                        0.514855  0.124032  \n",
       "cast_total_facebook_likes              0.199995  0.041736  \n",
       "facenumber_in_poster                   0.012960  0.011339  \n",
       "num_user_for_reviews                   0.368575  0.095933  \n",
       "budget                                 0.051059 -0.953628  \n",
       "title_year                             0.305520 -0.029489  \n",
       "actor_2_facebook_likes                 0.226923  0.039678  \n",
       "imdb_score                             0.284034  0.036209  \n",
       "aspect_ratio                           0.110104 -0.004630  \n",
       "movie_facebook_likes                   1.000000  0.058259  \n",
       "profit                                 0.058259  1.000000  "
      ]
     },
     "execution_count": 7,
     "metadata": {},
     "output_type": "execute_result"
    }
   ],
   "source": [
    "df_raw.corr()"
   ]
  },
  {
   "cell_type": "code",
   "execution_count": 8,
   "id": "26f9254a",
   "metadata": {
    "execution": {
     "iopub.execute_input": "2021-11-25T09:04:28.941929Z",
     "iopub.status.busy": "2021-11-25T09:04:28.941248Z",
     "iopub.status.idle": "2021-11-25T09:04:29.581957Z",
     "shell.execute_reply": "2021-11-25T09:04:29.581307Z",
     "shell.execute_reply.started": "2021-11-25T08:58:45.089118Z"
    },
    "id": "SFVfjOGzrmrB",
    "outputId": "7df8b9eb-c2aa-4078-84d9-e97ec062cb83",
    "papermill": {
     "duration": 0.674085,
     "end_time": "2021-11-25T09:04:29.582095",
     "exception": false,
     "start_time": "2021-11-25T09:04:28.908010",
     "status": "completed"
    },
    "tags": []
   },
   "outputs": [
    {
     "data": {
      "image/png": "[encoded data removed]",
      "text/plain": [
       "<Figure size 432x288 with 2 Axes>"
      ]
     },
     "metadata": {
      "needs_background": "light"
     },
     "output_type": "display_data"
    }
   ],
   "source": [
    "sn.heatmap(df_raw.corr(),cmap = 'coolwarm')\n",
    "plt.show()"
   ]
  },
  {
   "cell_type": "markdown",
   "id": "44f9115c",
   "metadata": {
    "id": "gliP97QIhI-E",
    "papermill": {
     "duration": 0.030057,
     "end_time": "2021-11-25T09:04:29.641475",
     "exception": false,
     "start_time": "2021-11-25T09:04:29.611418",
     "status": "completed"
    },
    "tags": []
   },
   "source": [
    "Now we have a rough idea on which all columns to be dropped from observing the correlation heatmap."
   ]
  },
  {
   "cell_type": "code",
   "execution_count": 9,
   "id": "76d8fc80",
   "metadata": {
    "execution": {
     "iopub.execute_input": "2021-11-25T09:04:29.706153Z",
     "iopub.status.busy": "2021-11-25T09:04:29.705142Z",
     "iopub.status.idle": "2021-11-25T09:04:29.707006Z",
     "shell.execute_reply": "2021-11-25T09:04:29.707471Z",
     "shell.execute_reply.started": "2021-11-25T08:58:45.711319Z"
    },
    "id": "DegltVFNaZD8",
    "papermill": {
     "duration": 0.03683,
     "end_time": "2021-11-25T09:04:29.707646",
     "exception": false,
     "start_time": "2021-11-25T09:04:29.670816",
     "status": "completed"
    },
    "tags": []
   },
   "outputs": [],
   "source": [
    "to_drop = ['color', 'duration', 'num_critic_for_reviews','num_voted_users','facenumber_in_poster','movie_imdb_link','num_user_for_reviews','country','title_year','actor_2_facebook_likes','aspect_ratio','movie_facebook_likes','actor_3_facebook_likes','actor_2_name','actor_1_name','actor_3_name','actor_1_facebook_likes','content_rating','director_facebook_likes','language','cast_total_facebook_likes','plot_keywords']"
   ]
  },
  {
   "cell_type": "code",
   "execution_count": 10,
   "id": "2ae19131",
   "metadata": {
    "execution": {
     "iopub.execute_input": "2021-11-25T09:04:29.776791Z",
     "iopub.status.busy": "2021-11-25T09:04:29.776117Z",
     "iopub.status.idle": "2021-11-25T09:04:29.780246Z",
     "shell.execute_reply": "2021-11-25T09:04:29.780789Z",
     "shell.execute_reply.started": "2021-11-25T08:58:45.719846Z"
    },
    "id": "dYuGcvwCg9rP",
    "outputId": "2defb08b-8f06-465f-ecf2-f9c22c4ff524",
    "papermill": {
     "duration": 0.044134,
     "end_time": "2021-11-25T09:04:29.780967",
     "exception": false,
     "start_time": "2021-11-25T09:04:29.736833",
     "status": "completed"
    },
    "tags": []
   },
   "outputs": [
    {
     "data": {
      "text/plain": [
       "director_name    0\n",
       "gross            0\n",
       "genres           0\n",
       "movie_title      0\n",
       "budget           0\n",
       "imdb_score       0\n",
       "profit           0\n",
       "dtype: int64"
      ]
     },
     "execution_count": 10,
     "metadata": {},
     "output_type": "execute_result"
    }
   ],
   "source": [
    "#New dataframe is created by dropping columns\n",
    "df_raw1 = df_raw.drop(to_drop, axis = 1)\n",
    "df_raw1.isnull().sum()"
   ]
  },
  {
   "cell_type": "markdown",
   "id": "b78e7250",
   "metadata": {
    "id": "a-gUOBWKh7xB",
    "papermill": {
     "duration": 0.029132,
     "end_time": "2021-11-25T09:04:29.840056",
     "exception": false,
     "start_time": "2021-11-25T09:04:29.810924",
     "status": "completed"
    },
    "tags": []
   },
   "source": [
    "Let us make sure there are not negative entries in the `budget` and `gross`"
   ]
  },
  {
   "cell_type": "code",
   "execution_count": 11,
   "id": "e958a36e",
   "metadata": {
    "execution": {
     "iopub.execute_input": "2021-11-25T09:04:29.905492Z",
     "iopub.status.busy": "2021-11-25T09:04:29.901819Z",
     "iopub.status.idle": "2021-11-25T09:04:29.910164Z",
     "shell.execute_reply": "2021-11-25T09:04:29.910897Z",
     "shell.execute_reply.started": "2021-11-25T08:58:45.738248Z"
    },
    "id": "Own2Yheo3Oay",
    "outputId": "2a1633a2-ac7e-4631-a10b-5b4ea14c69b3",
    "papermill": {
     "duration": 0.04153,
     "end_time": "2021-11-25T09:04:29.911130",
     "exception": false,
     "start_time": "2021-11-25T09:04:29.869600",
     "status": "completed"
    },
    "tags": []
   },
   "outputs": [
    {
     "name": "stdout",
     "output_type": "stream",
     "text": [
      "0\n",
      "0\n"
     ]
    }
   ],
   "source": [
    "print(len(df_raw1[df_raw1['budget']<=0]))\n",
    "print(len(df_raw1[df_raw1['gross']<=0]))"
   ]
  },
  {
   "cell_type": "markdown",
   "id": "fa1faacf",
   "metadata": {
    "id": "9o94VgCTcOr1",
    "papermill": {
     "duration": 0.031531,
     "end_time": "2021-11-25T09:04:29.974473",
     "exception": false,
     "start_time": "2021-11-25T09:04:29.942942",
     "status": "completed"
    },
    "tags": []
   },
   "source": [
    "Let us understand how the gross, budget and profit are related to each other by making the scatter plot between these features.\n"
   ]
  },
  {
   "cell_type": "code",
   "execution_count": 12,
   "id": "0675fa5b",
   "metadata": {
    "execution": {
     "iopub.execute_input": "2021-11-25T09:04:30.039757Z",
     "iopub.status.busy": "2021-11-25T09:04:30.039085Z",
     "iopub.status.idle": "2021-11-25T09:04:30.657081Z",
     "shell.execute_reply": "2021-11-25T09:04:30.656554Z",
     "shell.execute_reply.started": "2021-11-25T08:58:45.748466Z"
    },
    "id": "IIrTudz4cf70",
    "outputId": "b159b473-723e-4b41-e203-c914861757a0",
    "papermill": {
     "duration": 0.651015,
     "end_time": "2021-11-25T09:04:30.657219",
     "exception": false,
     "start_time": "2021-11-25T09:04:30.006204",
     "status": "completed"
    },
    "tags": []
   },
   "outputs": [
    {
     "data": {
      "image/png": "[encoded data removed]",
      "text/plain": [
       "<Figure size 432x288 with 1 Axes>"
      ]
     },
     "metadata": {
      "needs_background": "light"
     },
     "output_type": "display_data"
    },
    {
     "data": {
      "image/png": "[encoded data removed]",
      "text/plain": [
       "<Figure size 432x288 with 1 Axes>"
      ]
     },
     "metadata": {
      "needs_background": "light"
     },
     "output_type": "display_data"
    },
    {
     "data": {
      "image/png": "[encoded data removed]",
      "text/plain": [
       "<Figure size 432x288 with 1 Axes>"
      ]
     },
     "metadata": {
      "needs_background": "light"
     },
     "output_type": "display_data"
    }
   ],
   "source": [
    "plt.scatter(df_raw1['budget'],df_raw1['gross'])# plot between budget and gross\n",
    "plt.xlabel('Budget')\n",
    "plt.ylabel('gross')\n",
    "plt.show()\n",
    "plt.scatter(df_raw1['budget'],df_raw1['profit'] , c = 'red')#plot between budget and profit\n",
    "plt.xlabel('budget')\n",
    "plt.ylabel('profit')\n",
    "plt.show()\n",
    "plt.scatter(df_raw1['gross'],df_raw1['profit'], c= 'green' )#plot between gross and profit\n",
    "plt.xlabel('gross')\n",
    "plt.ylabel('profit')\n",
    "plt.show()\n"
   ]
  },
  {
   "cell_type": "markdown",
   "id": "c6b80147",
   "metadata": {
    "id": "GC8dxu5BhZDM",
    "papermill": {
     "duration": 0.031529,
     "end_time": "2021-11-25T09:04:30.720757",
     "exception": false,
     "start_time": "2021-11-25T09:04:30.689228",
     "status": "completed"
    },
    "tags": []
   },
   "source": [
    "From the above graph we can make some important inference such as: \n",
    " * As the budget increases profit doesn't increase\n",
    " * Profit has a positive correlation with the gross\n",
    " * The gross doesn't depend on the budget\n",
    " \n",
    "Also from the graph we can identify that some points are lying on the extrems of the graph, alienated from the other group of points. These are outlieres in the data.\n"
   ]
  },
  {
   "cell_type": "markdown",
   "id": "e27426f7",
   "metadata": {
    "id": "jd34DSv-BP7a",
    "papermill": {
     "duration": 0.031129,
     "end_time": "2021-11-25T09:04:30.783382",
     "exception": false,
     "start_time": "2021-11-25T09:04:30.752253",
     "status": "completed"
    },
    "tags": []
   },
   "source": [
    "Let us find out if we can use any of the most common genre type available in the available data set."
   ]
  },
  {
   "cell_type": "code",
   "execution_count": 13,
   "id": "952b8fa8",
   "metadata": {
    "execution": {
     "iopub.execute_input": "2021-11-25T09:04:30.863438Z",
     "iopub.status.busy": "2021-11-25T09:04:30.862783Z",
     "iopub.status.idle": "2021-11-25T09:04:30.864657Z",
     "shell.execute_reply": "2021-11-25T09:04:30.865138Z",
     "shell.execute_reply.started": "2021-11-25T08:58:46.375298Z"
    },
    "id": "oZuw1vrMADRU",
    "papermill": {
     "duration": 0.045218,
     "end_time": "2021-11-25T09:04:30.865324",
     "exception": false,
     "start_time": "2021-11-25T09:04:30.820106",
     "status": "completed"
    },
    "tags": []
   },
   "outputs": [],
   "source": [
    "dict_ ={}\n",
    "#Function to create a frequency distribution of the different genres available in the dataset.\n",
    "def count_function(dataframe): \n",
    "  for i in dataframe['genres']:\n",
    "    dict_[i] = dict_.get(i,0)+1\n",
    "  return dict_"
   ]
  },
  {
   "cell_type": "markdown",
   "id": "9d5e827e",
   "metadata": {
    "id": "995LaKrQdSBJ",
    "papermill": {
     "duration": 0.032257,
     "end_time": "2021-11-25T09:04:30.929938",
     "exception": false,
     "start_time": "2021-11-25T09:04:30.897681",
     "status": "completed"
    },
    "tags": []
   },
   "source": [
    "The Genre given below are the most common genres in the available data set."
   ]
  },
  {
   "cell_type": "code",
   "execution_count": 14,
   "id": "6ef078b5",
   "metadata": {
    "execution": {
     "iopub.execute_input": "2021-11-25T09:04:31.008083Z",
     "iopub.status.busy": "2021-11-25T09:04:31.007332Z",
     "iopub.status.idle": "2021-11-25T09:04:31.653504Z",
     "shell.execute_reply": "2021-11-25T09:04:31.652971Z",
     "shell.execute_reply.started": "2021-11-25T08:58:46.381993Z"
    },
    "id": "cpNFI_35LT83",
    "outputId": "7370a48d-974d-4b48-fc10-177bc8a1d3cc",
    "papermill": {
     "duration": 0.686599,
     "end_time": "2021-11-25T09:04:31.653667",
     "exception": false,
     "start_time": "2021-11-25T09:04:30.967068",
     "status": "completed"
    },
    "tags": []
   },
   "outputs": [
    {
     "data": {
      "text/html": [
       "<div>\n",
       "<style scoped>\n",
       "    .dataframe tbody tr th:only-of-type {\n",
       "        vertical-align: middle;\n",
       "    }\n",
       "\n",
       "    .dataframe tbody tr th {\n",
       "        vertical-align: top;\n",
       "    }\n",
       "\n",
       "    .dataframe thead th {\n",
       "        text-align: right;\n",
       "    }\n",
       "</style>\n",
       "<table border=\"1\" class=\"dataframe\">\n",
       "  <thead>\n",
       "    <tr style=\"text-align: right;\">\n",
       "      <th></th>\n",
       "      <th>Top_frequent_Genre</th>\n",
       "      <th>Number_of_Movies</th>\n",
       "    </tr>\n",
       "  </thead>\n",
       "  <tbody>\n",
       "    <tr>\n",
       "      <th>0</th>\n",
       "      <td>Comedy|Drama|Romance</td>\n",
       "      <td>147</td>\n",
       "    </tr>\n",
       "    <tr>\n",
       "      <th>1</th>\n",
       "      <td>Drama</td>\n",
       "      <td>140</td>\n",
       "    </tr>\n",
       "    <tr>\n",
       "      <th>2</th>\n",
       "      <td>Comedy</td>\n",
       "      <td>137</td>\n",
       "    </tr>\n",
       "    <tr>\n",
       "      <th>3</th>\n",
       "      <td>Comedy|Drama</td>\n",
       "      <td>137</td>\n",
       "    </tr>\n",
       "    <tr>\n",
       "      <th>4</th>\n",
       "      <td>Comedy|Romance</td>\n",
       "      <td>131</td>\n",
       "    </tr>\n",
       "    <tr>\n",
       "      <th>5</th>\n",
       "      <td>Drama|Romance</td>\n",
       "      <td>114</td>\n",
       "    </tr>\n",
       "    <tr>\n",
       "      <th>6</th>\n",
       "      <td>Crime|Drama|Thriller</td>\n",
       "      <td>81</td>\n",
       "    </tr>\n",
       "    <tr>\n",
       "      <th>7</th>\n",
       "      <td>Action|Crime|Thriller</td>\n",
       "      <td>55</td>\n",
       "    </tr>\n",
       "    <tr>\n",
       "      <th>8</th>\n",
       "      <td>Action|Crime|Drama|Thriller</td>\n",
       "      <td>50</td>\n",
       "    </tr>\n",
       "    <tr>\n",
       "      <th>9</th>\n",
       "      <td>Action|Adventure|Sci-Fi</td>\n",
       "      <td>46</td>\n",
       "    </tr>\n",
       "  </tbody>\n",
       "</table>\n",
       "</div>"
      ],
      "text/plain": [
       "            Top_frequent_Genre  Number_of_Movies\n",
       "0         Comedy|Drama|Romance               147\n",
       "1                        Drama               140\n",
       "2                       Comedy               137\n",
       "3                 Comedy|Drama               137\n",
       "4               Comedy|Romance               131\n",
       "5                Drama|Romance               114\n",
       "6         Crime|Drama|Thriller                81\n",
       "7        Action|Crime|Thriller                55\n",
       "8  Action|Crime|Drama|Thriller                50\n",
       "9      Action|Adventure|Sci-Fi                46"
      ]
     },
     "execution_count": 14,
     "metadata": {},
     "output_type": "execute_result"
    }
   ],
   "source": [
    " genre_count = count_function(df_raw1)\n",
    " genre_count\n",
    " dict_ = {}#to make dict_ empty again, otherwise the count will increase each time you run the cell\n",
    " import nltk\n",
    " from nltk.probability import FreqDist\n",
    " genre_count = FreqDist(genre_count) #could have taken the most_common genre without using FreqDist\n",
    " most_common_genres = genre_count.most_common(10)\n",
    " most_common_genres #To find the most common genres in the available data set\n",
    " df=pd.DataFrame(most_common_genres, columns = ['Top_frequent_Genre','Number_of_Movies'])\n",
    " df"
   ]
  },
  {
   "cell_type": "markdown",
   "id": "ca902ff6",
   "metadata": {
    "id": "vF7ifWuUj1BY",
    "papermill": {
     "duration": 0.031751,
     "end_time": "2021-11-25T09:04:31.774903",
     "exception": false,
     "start_time": "2021-11-25T09:04:31.743152",
     "status": "completed"
    },
    "tags": []
   },
   "source": [
    "Let us analyse the budget of these most frequent films"
   ]
  },
  {
   "cell_type": "code",
   "execution_count": 15,
   "id": "678f1860",
   "metadata": {
    "execution": {
     "iopub.execute_input": "2021-11-25T09:04:31.849342Z",
     "iopub.status.busy": "2021-11-25T09:04:31.848634Z",
     "iopub.status.idle": "2021-11-25T09:04:32.091137Z",
     "shell.execute_reply": "2021-11-25T09:04:32.091597Z",
     "shell.execute_reply.started": "2021-11-25T09:02:42.640483Z"
    },
    "id": "bbzl-0hIkemR",
    "outputId": "16f1c2bf-0e23-401e-9f45-63da71d280a3",
    "papermill": {
     "duration": 0.284891,
     "end_time": "2021-11-25T09:04:32.091776",
     "exception": false,
     "start_time": "2021-11-25T09:04:31.806885",
     "status": "completed"
    },
    "tags": []
   },
   "outputs": [
    {
     "data": {
      "image/png": "[encoded data removed]",
      "text/plain": [
       "<Figure size 432x288 with 1 Axes>"
      ]
     },
     "metadata": {
      "needs_background": "light"
     },
     "output_type": "display_data"
    }
   ],
   "source": [
    "#in the next line column value aggregation is done (with groupby) and mean is calculated so that 'topgenseries' dataframe can be created\n",
    "topgenreseries = df_raw1.groupby('genres')[['budget','imdb_score','gross','profit']].mean()\n",
    "df2=pd.DataFrame(topgenreseries['budget'][df['Top_frequent_Genre']])\n",
    "df2\n",
    "plt.bar(df2.index,df2['budget'])\n",
    "plt.xticks(rotation = 90)\n",
    "plt.xlabel('Top Frequent Genres')\n",
    "plt.ylabel('Budget In 100 Million $')\n",
    "plt.show()\n",
    "#plt.bar(df2.index,df2['budget'])"
   ]
  },
  {
   "cell_type": "markdown",
   "id": "84e6298d",
   "metadata": {
    "id": "B71aigUjNtRr",
    "papermill": {
     "duration": 0.032669,
     "end_time": "2021-11-25T09:04:32.158403",
     "exception": false,
     "start_time": "2021-11-25T09:04:32.125734",
     "status": "completed"
    },
    "tags": []
   },
   "source": [
    "From the above analysis it is obvious that the most frequent genres in the availabe data set are out of budget as our budget has a cap at 1,500,000. But incase we can avail more funding, there is a good possibility of taking succesful films in these genres. Now, let us give the current budget limit to the film assuming that we are using the whole budget only for a single film"
   ]
  },
  {
   "cell_type": "code",
   "execution_count": 16,
   "id": "ebf78a1e",
   "metadata": {
    "execution": {
     "iopub.execute_input": "2021-11-25T09:04:32.228122Z",
     "iopub.status.busy": "2021-11-25T09:04:32.227437Z",
     "iopub.status.idle": "2021-11-25T09:04:32.242243Z",
     "shell.execute_reply": "2021-11-25T09:04:32.242702Z",
     "shell.execute_reply.started": "2021-11-25T08:58:47.272330Z"
    },
    "id": "C4VIkYDnlM1P",
    "outputId": "653b687e-45fe-4789-a520-99994f9e5afd",
    "papermill": {
     "duration": 0.0514,
     "end_time": "2021-11-25T09:04:32.242874",
     "exception": false,
     "start_time": "2021-11-25T09:04:32.191474",
     "status": "completed"
    },
    "tags": []
   },
   "outputs": [
    {
     "data": {
      "text/html": [
       "<div>\n",
       "<style scoped>\n",
       "    .dataframe tbody tr th:only-of-type {\n",
       "        vertical-align: middle;\n",
       "    }\n",
       "\n",
       "    .dataframe tbody tr th {\n",
       "        vertical-align: top;\n",
       "    }\n",
       "\n",
       "    .dataframe thead th {\n",
       "        text-align: right;\n",
       "    }\n",
       "</style>\n",
       "<table border=\"1\" class=\"dataframe\">\n",
       "  <thead>\n",
       "    <tr style=\"text-align: right;\">\n",
       "      <th></th>\n",
       "      <th>director_name</th>\n",
       "      <th>gross</th>\n",
       "      <th>genres</th>\n",
       "      <th>movie_title</th>\n",
       "      <th>budget</th>\n",
       "      <th>imdb_score</th>\n",
       "      <th>profit</th>\n",
       "    </tr>\n",
       "  </thead>\n",
       "  <tbody>\n",
       "    <tr>\n",
       "      <th>1281</th>\n",
       "      <td>Martin Scorsese</td>\n",
       "      <td>32645.0</td>\n",
       "      <td>Crime|Drama|Romance|Thriller</td>\n",
       "      <td>Mean Streets</td>\n",
       "      <td>500000.0</td>\n",
       "      <td>7.4</td>\n",
       "      <td>-467355.0</td>\n",
       "    </tr>\n",
       "    <tr>\n",
       "      <th>2242</th>\n",
       "      <td>Alfred Hitchcock</td>\n",
       "      <td>32000000.0</td>\n",
       "      <td>Horror|Mystery|Thriller</td>\n",
       "      <td>Psycho</td>\n",
       "      <td>806947.0</td>\n",
       "      <td>8.5</td>\n",
       "      <td>31193053.0</td>\n",
       "    </tr>\n",
       "    <tr>\n",
       "      <th>2420</th>\n",
       "      <td>John Carpenter</td>\n",
       "      <td>21378000.0</td>\n",
       "      <td>Fantasy|Horror</td>\n",
       "      <td>The Fog</td>\n",
       "      <td>1000000.0</td>\n",
       "      <td>6.8</td>\n",
       "      <td>20378000.0</td>\n",
       "    </tr>\n",
       "    <tr>\n",
       "      <th>2492</th>\n",
       "      <td>John Carpenter</td>\n",
       "      <td>47000000.0</td>\n",
       "      <td>Horror|Thriller</td>\n",
       "      <td>Halloween</td>\n",
       "      <td>300000.0</td>\n",
       "      <td>7.9</td>\n",
       "      <td>46700000.0</td>\n",
       "    </tr>\n",
       "    <tr>\n",
       "      <th>3278</th>\n",
       "      <td>Tobe Hooper</td>\n",
       "      <td>30859000.0</td>\n",
       "      <td>Horror|Thriller</td>\n",
       "      <td>The Texas Chain Saw Massacre</td>\n",
       "      <td>83532.0</td>\n",
       "      <td>7.5</td>\n",
       "      <td>30775468.0</td>\n",
       "    </tr>\n",
       "  </tbody>\n",
       "</table>\n",
       "</div>"
      ],
      "text/plain": [
       "         director_name       gross                        genres  \\\n",
       "1281   Martin Scorsese     32645.0  Crime|Drama|Romance|Thriller   \n",
       "2242  Alfred Hitchcock  32000000.0       Horror|Mystery|Thriller   \n",
       "2420    John Carpenter  21378000.0                Fantasy|Horror   \n",
       "2492    John Carpenter  47000000.0               Horror|Thriller   \n",
       "3278       Tobe Hooper  30859000.0               Horror|Thriller   \n",
       "\n",
       "                        movie_title     budget  imdb_score      profit  \n",
       "1281                  Mean Streets    500000.0         7.4   -467355.0  \n",
       "2242                        Psycho    806947.0         8.5  31193053.0  \n",
       "2420                       The Fog   1000000.0         6.8  20378000.0  \n",
       "2492                     Halloween    300000.0         7.9  46700000.0  \n",
       "3278  The Texas Chain Saw Massacre     83532.0         7.5  30775468.0  "
      ]
     },
     "execution_count": 16,
     "metadata": {},
     "output_type": "execute_result"
    }
   ],
   "source": [
    "max_budget = 1500000\n",
    "df_final=df_raw1[df_raw1['budget']<= max_budget]\n",
    "df_final.head()"
   ]
  },
  {
   "cell_type": "markdown",
   "id": "d3c3af32",
   "metadata": {
    "id": "Kvnk-03PwdqY",
    "papermill": {
     "duration": 0.033369,
     "end_time": "2021-11-25T09:04:32.310388",
     "exception": false,
     "start_time": "2021-11-25T09:04:32.277019",
     "status": "completed"
    },
    "tags": []
   },
   "source": [
    "from further analysis we can get the following data frame which shows the genres which have mean budget less than our current budget limit"
   ]
  },
  {
   "cell_type": "code",
   "execution_count": 17,
   "id": "b48deef4",
   "metadata": {
    "execution": {
     "iopub.execute_input": "2021-11-25T09:04:32.380938Z",
     "iopub.status.busy": "2021-11-25T09:04:32.380264Z",
     "iopub.status.idle": "2021-11-25T09:04:32.394506Z",
     "shell.execute_reply": "2021-11-25T09:04:32.395006Z",
     "shell.execute_reply.started": "2021-11-25T08:58:47.296074Z"
    },
    "id": "4d1eR3iNdCm7",
    "outputId": "93f69b36-4e2e-4f8d-8bb5-cc82aa762b76",
    "papermill": {
     "duration": 0.051033,
     "end_time": "2021-11-25T09:04:32.395196",
     "exception": false,
     "start_time": "2021-11-25T09:04:32.344163",
     "status": "completed"
    },
    "tags": []
   },
   "outputs": [
    {
     "data": {
      "text/html": [
       "<div>\n",
       "<style scoped>\n",
       "    .dataframe tbody tr th:only-of-type {\n",
       "        vertical-align: middle;\n",
       "    }\n",
       "\n",
       "    .dataframe tbody tr th {\n",
       "        vertical-align: top;\n",
       "    }\n",
       "\n",
       "    .dataframe thead th {\n",
       "        text-align: right;\n",
       "    }\n",
       "</style>\n",
       "<table border=\"1\" class=\"dataframe\">\n",
       "  <thead>\n",
       "    <tr style=\"text-align: right;\">\n",
       "      <th></th>\n",
       "      <th>budget</th>\n",
       "      <th>imdb_score</th>\n",
       "      <th>gross</th>\n",
       "      <th>profit</th>\n",
       "    </tr>\n",
       "    <tr>\n",
       "      <th>genres</th>\n",
       "      <th></th>\n",
       "      <th></th>\n",
       "      <th></th>\n",
       "      <th></th>\n",
       "    </tr>\n",
       "  </thead>\n",
       "  <tbody>\n",
       "    <tr>\n",
       "      <th>Comedy|Drama|Music</th>\n",
       "      <td>8.385000e+05</td>\n",
       "      <td>6.850000</td>\n",
       "      <td>62000000.00</td>\n",
       "      <td>6.116150e+07</td>\n",
       "    </tr>\n",
       "    <tr>\n",
       "      <th>Fantasy|Horror|Mystery|Thriller</th>\n",
       "      <td>1.500000e+06</td>\n",
       "      <td>6.800000</td>\n",
       "      <td>53991137.00</td>\n",
       "      <td>5.249114e+07</td>\n",
       "    </tr>\n",
       "    <tr>\n",
       "      <th>Horror</th>\n",
       "      <td>5.892857e+05</td>\n",
       "      <td>6.042857</td>\n",
       "      <td>45711857.00</td>\n",
       "      <td>4.512257e+07</td>\n",
       "    </tr>\n",
       "    <tr>\n",
       "      <th>Adventure|Family|Romance</th>\n",
       "      <td>5.000000e+05</td>\n",
       "      <td>6.100000</td>\n",
       "      <td>39552600.00</td>\n",
       "      <td>3.905260e+07</td>\n",
       "    </tr>\n",
       "    <tr>\n",
       "      <th>Horror|Thriller</th>\n",
       "      <td>1.734128e+05</td>\n",
       "      <td>7.000000</td>\n",
       "      <td>35695163.80</td>\n",
       "      <td>3.552175e+07</td>\n",
       "    </tr>\n",
       "    <tr>\n",
       "      <th>Horror|Mystery|Thriller</th>\n",
       "      <td>1.064237e+06</td>\n",
       "      <td>7.000000</td>\n",
       "      <td>34447680.75</td>\n",
       "      <td>3.338344e+07</td>\n",
       "    </tr>\n",
       "    <tr>\n",
       "      <th>Adventure|Biography|Drama|Horror|Thriller</th>\n",
       "      <td>5.000000e+05</td>\n",
       "      <td>5.700000</td>\n",
       "      <td>30500882.00</td>\n",
       "      <td>3.000088e+07</td>\n",
       "    </tr>\n",
       "    <tr>\n",
       "      <th>Drama|Sport</th>\n",
       "      <td>5.920000e+05</td>\n",
       "      <td>6.700000</td>\n",
       "      <td>26057639.60</td>\n",
       "      <td>2.546564e+07</td>\n",
       "    </tr>\n",
       "  </tbody>\n",
       "</table>\n",
       "</div>"
      ],
      "text/plain": [
       "                                                 budget  imdb_score  \\\n",
       "genres                                                                \n",
       "Comedy|Drama|Music                         8.385000e+05    6.850000   \n",
       "Fantasy|Horror|Mystery|Thriller            1.500000e+06    6.800000   \n",
       "Horror                                     5.892857e+05    6.042857   \n",
       "Adventure|Family|Romance                   5.000000e+05    6.100000   \n",
       "Horror|Thriller                            1.734128e+05    7.000000   \n",
       "Horror|Mystery|Thriller                    1.064237e+06    7.000000   \n",
       "Adventure|Biography|Drama|Horror|Thriller  5.000000e+05    5.700000   \n",
       "Drama|Sport                                5.920000e+05    6.700000   \n",
       "\n",
       "                                                 gross        profit  \n",
       "genres                                                                \n",
       "Comedy|Drama|Music                         62000000.00  6.116150e+07  \n",
       "Fantasy|Horror|Mystery|Thriller            53991137.00  5.249114e+07  \n",
       "Horror                                     45711857.00  4.512257e+07  \n",
       "Adventure|Family|Romance                   39552600.00  3.905260e+07  \n",
       "Horror|Thriller                            35695163.80  3.552175e+07  \n",
       "Horror|Mystery|Thriller                    34447680.75  3.338344e+07  \n",
       "Adventure|Biography|Drama|Horror|Thriller  30500882.00  3.000088e+07  \n",
       "Drama|Sport                                26057639.60  2.546564e+07  "
      ]
     },
     "execution_count": 17,
     "metadata": {},
     "output_type": "execute_result"
    }
   ],
   "source": [
    "#in the next line column value aggregation is done (with groupby) and mean is calculated so that 'budget_genres' dataframe can be created\n",
    "budget_genres = df_final.groupby('genres')[['budget','imdb_score','gross','profit']].mean() \n",
    "budget_genres = budget_genres.sort_values('profit', ascending = False)\n",
    "budget_genres.head(8)\n",
    "\n",
    "\n"
   ]
  },
  {
   "cell_type": "markdown",
   "id": "cdfe97ad",
   "metadata": {
    "id": "nLGy34tyuFjD",
    "papermill": {
     "duration": 0.033739,
     "end_time": "2021-11-25T09:04:32.462869",
     "exception": false,
     "start_time": "2021-11-25T09:04:32.429130",
     "status": "completed"
    },
    "tags": []
   },
   "source": []
  },
  {
   "cell_type": "code",
   "execution_count": 18,
   "id": "1c1bfa3c",
   "metadata": {
    "execution": {
     "iopub.execute_input": "2021-11-25T09:04:32.534034Z",
     "iopub.status.busy": "2021-11-25T09:04:32.533281Z",
     "iopub.status.idle": "2021-11-25T09:04:32.726601Z",
     "shell.execute_reply": "2021-11-25T09:04:32.727098Z",
     "shell.execute_reply.started": "2021-11-25T09:02:32.855224Z"
    },
    "id": "5-G8wj3J51p4",
    "outputId": "673b5ce1-b934-4127-82d3-1e8d1c590cb2",
    "papermill": {
     "duration": 0.230511,
     "end_time": "2021-11-25T09:04:32.727265",
     "exception": false,
     "start_time": "2021-11-25T09:04:32.496754",
     "status": "completed"
    },
    "tags": []
   },
   "outputs": [
    {
     "data": {
      "image/png": "[encoded data removed]",
      "text/plain": [
       "<Figure size 432x288 with 1 Axes>"
      ]
     },
     "metadata": {
      "needs_background": "light"
     },
     "output_type": "display_data"
    }
   ],
   "source": [
    "%matplotlib inline\n",
    "from matplotlib.pyplot import figure\n",
    "plt.bar(budget_genres.index[:5] , budget_genres['profit'][:5]) # To show the profit of top 5 genres within the budget limit\n",
    "plt.xticks(rotation = 90)\n",
    "plt.xlabel('Genre')\n",
    "plt.ylabel('Profit in 10 million $')\n",
    "plt.show()"
   ]
  },
  {
   "cell_type": "markdown",
   "id": "198adcf9",
   "metadata": {
    "id": "91PBjDk0joBI",
    "papermill": {
     "duration": 0.034558,
     "end_time": "2021-11-25T09:04:32.796661",
     "exception": false,
     "start_time": "2021-11-25T09:04:32.762103",
     "status": "completed"
    },
    "tags": []
   },
   "source": [
    "By seeing this output we might be misguded that Comedy|Drama|Music genre is the best genre to focus out next film on. However, by taking a closer look we can understand that there is only two such film data in the final dataset"
   ]
  },
  {
   "cell_type": "code",
   "execution_count": 19,
   "id": "27aa0932",
   "metadata": {
    "execution": {
     "iopub.execute_input": "2021-11-25T09:04:32.869492Z",
     "iopub.status.busy": "2021-11-25T09:04:32.868895Z",
     "iopub.status.idle": "2021-11-25T09:04:32.881816Z",
     "shell.execute_reply": "2021-11-25T09:04:32.882330Z",
     "shell.execute_reply.started": "2021-11-25T08:58:47.526074Z"
    },
    "id": "BYjP2RLOK4Uv",
    "outputId": "c7fb241f-d1a3-4a9e-ad63-174ef48a162d",
    "papermill": {
     "duration": 0.051179,
     "end_time": "2021-11-25T09:04:32.882533",
     "exception": false,
     "start_time": "2021-11-25T09:04:32.831354",
     "status": "completed"
    },
    "tags": []
   },
   "outputs": [
    {
     "data": {
      "text/html": [
       "<div>\n",
       "<style scoped>\n",
       "    .dataframe tbody tr th:only-of-type {\n",
       "        vertical-align: middle;\n",
       "    }\n",
       "\n",
       "    .dataframe tbody tr th {\n",
       "        vertical-align: top;\n",
       "    }\n",
       "\n",
       "    .dataframe thead th {\n",
       "        text-align: right;\n",
       "    }\n",
       "</style>\n",
       "<table border=\"1\" class=\"dataframe\">\n",
       "  <thead>\n",
       "    <tr style=\"text-align: right;\">\n",
       "      <th></th>\n",
       "      <th>director_name</th>\n",
       "      <th>gross</th>\n",
       "      <th>genres</th>\n",
       "      <th>movie_title</th>\n",
       "      <th>budget</th>\n",
       "      <th>imdb_score</th>\n",
       "      <th>profit</th>\n",
       "    </tr>\n",
       "  </thead>\n",
       "  <tbody>\n",
       "    <tr>\n",
       "      <th>4546</th>\n",
       "      <td>Russ Meyer</td>\n",
       "      <td>9000000.0</td>\n",
       "      <td>Comedy|Drama|Music</td>\n",
       "      <td>Beyond the Valley of the Dolls</td>\n",
       "      <td>900000.0</td>\n",
       "      <td>6.2</td>\n",
       "      <td>8100000.0</td>\n",
       "    </tr>\n",
       "    <tr>\n",
       "      <th>4674</th>\n",
       "      <td>George Lucas</td>\n",
       "      <td>115000000.0</td>\n",
       "      <td>Comedy|Drama|Music</td>\n",
       "      <td>American Graffiti</td>\n",
       "      <td>777000.0</td>\n",
       "      <td>7.5</td>\n",
       "      <td>114223000.0</td>\n",
       "    </tr>\n",
       "  </tbody>\n",
       "</table>\n",
       "</div>"
      ],
      "text/plain": [
       "     director_name        gross              genres  \\\n",
       "4546    Russ Meyer    9000000.0  Comedy|Drama|Music   \n",
       "4674  George Lucas  115000000.0  Comedy|Drama|Music   \n",
       "\n",
       "                          movie_title    budget  imdb_score       profit  \n",
       "4546  Beyond the Valley of the Dolls   900000.0         6.2    8100000.0  \n",
       "4674               American Graffiti   777000.0         7.5  114223000.0  "
      ]
     },
     "execution_count": 19,
     "metadata": {},
     "output_type": "execute_result"
    }
   ],
   "source": [
    "df_final[df_final['genres']== 'Comedy|Drama|Music']"
   ]
  },
  {
   "cell_type": "markdown",
   "id": "0091cc10",
   "metadata": {
    "id": "f8nxCiCAlnXB",
    "papermill": {
     "duration": 0.034708,
     "end_time": "2021-11-25T09:04:32.952208",
     "exception": false,
     "start_time": "2021-11-25T09:04:32.917500",
     "status": "completed"
    },
    "tags": []
   },
   "source": [
    "So we have to further analyse how many movies are there in each genre. The more films we have in each genre, better it is to come up with a solid argument"
   ]
  },
  {
   "cell_type": "code",
   "execution_count": 20,
   "id": "39aae836",
   "metadata": {
    "execution": {
     "iopub.execute_input": "2021-11-25T09:04:33.026733Z",
     "iopub.status.busy": "2021-11-25T09:04:33.026091Z",
     "iopub.status.idle": "2021-11-25T09:04:33.038673Z",
     "shell.execute_reply": "2021-11-25T09:04:33.039176Z",
     "shell.execute_reply.started": "2021-11-25T08:58:47.543498Z"
    },
    "id": "-Db8xfabkZSh",
    "outputId": "3fd328e8-49c4-4935-f842-87c912f45dc6",
    "papermill": {
     "duration": 0.051319,
     "end_time": "2021-11-25T09:04:33.039343",
     "exception": false,
     "start_time": "2021-11-25T09:04:32.988024",
     "status": "completed"
    },
    "tags": []
   },
   "outputs": [
    {
     "data": {
      "text/html": [
       "<div>\n",
       "<style scoped>\n",
       "    .dataframe tbody tr th:only-of-type {\n",
       "        vertical-align: middle;\n",
       "    }\n",
       "\n",
       "    .dataframe tbody tr th {\n",
       "        vertical-align: top;\n",
       "    }\n",
       "\n",
       "    .dataframe thead th {\n",
       "        text-align: right;\n",
       "    }\n",
       "</style>\n",
       "<table border=\"1\" class=\"dataframe\">\n",
       "  <thead>\n",
       "    <tr style=\"text-align: right;\">\n",
       "      <th></th>\n",
       "      <th>Genres</th>\n",
       "      <th>Number of movies</th>\n",
       "    </tr>\n",
       "  </thead>\n",
       "  <tbody>\n",
       "    <tr>\n",
       "      <th>0</th>\n",
       "      <td>Drama</td>\n",
       "      <td>26</td>\n",
       "    </tr>\n",
       "    <tr>\n",
       "      <th>1</th>\n",
       "      <td>Comedy|Drama</td>\n",
       "      <td>17</td>\n",
       "    </tr>\n",
       "    <tr>\n",
       "      <th>2</th>\n",
       "      <td>Comedy|Drama|Romance</td>\n",
       "      <td>16</td>\n",
       "    </tr>\n",
       "    <tr>\n",
       "      <th>3</th>\n",
       "      <td>Comedy</td>\n",
       "      <td>8</td>\n",
       "    </tr>\n",
       "    <tr>\n",
       "      <th>4</th>\n",
       "      <td>Drama|Romance</td>\n",
       "      <td>8</td>\n",
       "    </tr>\n",
       "    <tr>\n",
       "      <th>5</th>\n",
       "      <td>Crime|Drama|Thriller</td>\n",
       "      <td>8</td>\n",
       "    </tr>\n",
       "    <tr>\n",
       "      <th>6</th>\n",
       "      <td>Comedy|Romance</td>\n",
       "      <td>8</td>\n",
       "    </tr>\n",
       "    <tr>\n",
       "      <th>7</th>\n",
       "      <td>Horror</td>\n",
       "      <td>7</td>\n",
       "    </tr>\n",
       "    <tr>\n",
       "      <th>8</th>\n",
       "      <td>Documentary</td>\n",
       "      <td>6</td>\n",
       "    </tr>\n",
       "    <tr>\n",
       "      <th>9</th>\n",
       "      <td>Horror|Thriller</td>\n",
       "      <td>5</td>\n",
       "    </tr>\n",
       "    <tr>\n",
       "      <th>10</th>\n",
       "      <td>Drama|Sport</td>\n",
       "      <td>5</td>\n",
       "    </tr>\n",
       "    <tr>\n",
       "      <th>11</th>\n",
       "      <td>Crime|Drama</td>\n",
       "      <td>5</td>\n",
       "    </tr>\n",
       "    <tr>\n",
       "      <th>12</th>\n",
       "      <td>Horror|Mystery|Thriller</td>\n",
       "      <td>4</td>\n",
       "    </tr>\n",
       "    <tr>\n",
       "      <th>13</th>\n",
       "      <td>Fantasy|Horror</td>\n",
       "      <td>4</td>\n",
       "    </tr>\n",
       "    <tr>\n",
       "      <th>14</th>\n",
       "      <td>Crime|Drama|Romance</td>\n",
       "      <td>3</td>\n",
       "    </tr>\n",
       "  </tbody>\n",
       "</table>\n",
       "</div>"
      ],
      "text/plain": [
       "                     Genres  Number of movies\n",
       "0                     Drama                26\n",
       "1              Comedy|Drama                17\n",
       "2      Comedy|Drama|Romance                16\n",
       "3                    Comedy                 8\n",
       "4             Drama|Romance                 8\n",
       "5      Crime|Drama|Thriller                 8\n",
       "6            Comedy|Romance                 8\n",
       "7                    Horror                 7\n",
       "8               Documentary                 6\n",
       "9           Horror|Thriller                 5\n",
       "10              Drama|Sport                 5\n",
       "11              Crime|Drama                 5\n",
       "12  Horror|Mystery|Thriller                 4\n",
       "13           Fantasy|Horror                 4\n",
       "14      Crime|Drama|Romance                 3"
      ]
     },
     "execution_count": 20,
     "metadata": {},
     "output_type": "execute_result"
    }
   ],
   "source": [
    "genre_count2 = count_function(df_final)\n",
    "dict_ = {} # to make the dict_ empty, other wise if u run the cell again the count will inrease\n",
    "list_final=[(i, genre_count2[i]) for i in budget_genres.index]\n",
    "# The code below is to convert the above list into a dictionary form\n",
    "dict_1 = {}\n",
    "for i in list_final:\n",
    "  dict_1[i[0]] = i[1]\n",
    "dict_1\n",
    "dict_1 = FreqDist(dict_1) #To get the most frequent genres easily, converted dictionary to a frequency distribution\n",
    "dict_1.most_common(15)# Most common 15 genres in the available budget\n",
    "df3 = pd.DataFrame(dict_1.most_common(15), columns = ['Genres','Number of movies'])\n",
    "df3\n",
    "\n"
   ]
  },
  {
   "cell_type": "markdown",
   "id": "7e5538a5",
   "metadata": {
    "id": "NJzFkOhNFmfF",
    "papermill": {
     "duration": 0.036501,
     "end_time": "2021-11-25T09:04:33.111552",
     "exception": false,
     "start_time": "2021-11-25T09:04:33.075051",
     "status": "completed"
    },
    "tags": []
   },
   "source": [
    "By having a closer look at `budget_genres` and `df3` the films which contains a **Horror** element is making more profit and we also have decent number of films available in the final data which have this **Horror** factor in it. Now let us find the genre of films with this factor."
   ]
  },
  {
   "cell_type": "code",
   "execution_count": 21,
   "id": "e170f24c",
   "metadata": {
    "execution": {
     "iopub.execute_input": "2021-11-25T09:04:33.187933Z",
     "iopub.status.busy": "2021-11-25T09:04:33.187183Z",
     "iopub.status.idle": "2021-11-25T09:04:33.193936Z",
     "shell.execute_reply": "2021-11-25T09:04:33.194443Z",
     "shell.execute_reply.started": "2021-11-25T08:58:47.564292Z"
    },
    "id": "zq9FV8Kf6zBB",
    "outputId": "fc1d4082-0d13-4123-df85-1ae6a6db5fa4",
    "papermill": {
     "duration": 0.046993,
     "end_time": "2021-11-25T09:04:33.194640",
     "exception": false,
     "start_time": "2021-11-25T09:04:33.147647",
     "status": "completed"
    },
    "tags": []
   },
   "outputs": [
    {
     "data": {
      "text/plain": [
       "['Horror', 'Horror|Thriller', 'Horror|Mystery|Thriller', 'Fantasy|Horror']"
      ]
     },
     "execution_count": 21,
     "metadata": {},
     "output_type": "execute_result"
    }
   ],
   "source": [
    "list_2 = []\n",
    "for i in df3['Genres']:\n",
    "  if re.findall(r'Horror',i) == ['Horror']:\n",
    "    list_2.append(i)\n",
    "list_2"
   ]
  },
  {
   "cell_type": "markdown",
   "id": "dc9b2a68",
   "metadata": {
    "id": "jlhmowFEIAyM",
    "papermill": {
     "duration": 0.035452,
     "end_time": "2021-11-25T09:04:33.266019",
     "exception": false,
     "start_time": "2021-11-25T09:04:33.230567",
     "status": "completed"
    },
    "tags": []
   },
   "source": [
    "From the above list we can find that **Horror** and **Horror** thriller is the common genre in both `budget_genres` and `df3`"
   ]
  },
  {
   "cell_type": "code",
   "execution_count": 22,
   "id": "2fae9f58",
   "metadata": {
    "execution": {
     "iopub.execute_input": "2021-11-25T09:04:33.341428Z",
     "iopub.status.busy": "2021-11-25T09:04:33.340845Z",
     "iopub.status.idle": "2021-11-25T09:04:33.352003Z",
     "shell.execute_reply": "2021-11-25T09:04:33.352549Z",
     "shell.execute_reply.started": "2021-11-25T08:58:47.580594Z"
    },
    "id": "fKaUCqORG-rh",
    "outputId": "48179fe1-788a-4c94-b10b-532a084619f3",
    "papermill": {
     "duration": 0.050621,
     "end_time": "2021-11-25T09:04:33.352735",
     "exception": false,
     "start_time": "2021-11-25T09:04:33.302114",
     "status": "completed"
    },
    "tags": []
   },
   "outputs": [
    {
     "data": {
      "text/html": [
       "<div>\n",
       "<style scoped>\n",
       "    .dataframe tbody tr th:only-of-type {\n",
       "        vertical-align: middle;\n",
       "    }\n",
       "\n",
       "    .dataframe tbody tr th {\n",
       "        vertical-align: top;\n",
       "    }\n",
       "\n",
       "    .dataframe thead th {\n",
       "        text-align: right;\n",
       "    }\n",
       "</style>\n",
       "<table border=\"1\" class=\"dataframe\">\n",
       "  <thead>\n",
       "    <tr style=\"text-align: right;\">\n",
       "      <th></th>\n",
       "      <th>budget</th>\n",
       "      <th>imdb_score</th>\n",
       "      <th>gross</th>\n",
       "      <th>profit</th>\n",
       "    </tr>\n",
       "    <tr>\n",
       "      <th>genres</th>\n",
       "      <th></th>\n",
       "      <th></th>\n",
       "      <th></th>\n",
       "      <th></th>\n",
       "    </tr>\n",
       "  </thead>\n",
       "  <tbody>\n",
       "    <tr>\n",
       "      <th>Horror</th>\n",
       "      <td>589285.714286</td>\n",
       "      <td>6.042857</td>\n",
       "      <td>45711857.0</td>\n",
       "      <td>4.512257e+07</td>\n",
       "    </tr>\n",
       "    <tr>\n",
       "      <th>Horror|Thriller</th>\n",
       "      <td>173412.800000</td>\n",
       "      <td>7.000000</td>\n",
       "      <td>35695163.8</td>\n",
       "      <td>3.552175e+07</td>\n",
       "    </tr>\n",
       "  </tbody>\n",
       "</table>\n",
       "</div>"
      ],
      "text/plain": [
       "                        budget  imdb_score       gross        profit\n",
       "genres                                                              \n",
       "Horror           589285.714286    6.042857  45711857.0  4.512257e+07\n",
       "Horror|Thriller  173412.800000    7.000000  35695163.8  3.552175e+07"
      ]
     },
     "execution_count": 22,
     "metadata": {},
     "output_type": "execute_result"
    }
   ],
   "source": [
    "df_horror = budget_genres.loc[['Horror','Horror|Thriller'],:]\n",
    "df_horror"
   ]
  },
  {
   "cell_type": "code",
   "execution_count": 23,
   "id": "416bb5cc",
   "metadata": {
    "execution": {
     "iopub.execute_input": "2021-11-25T09:04:33.429160Z",
     "iopub.status.busy": "2021-11-25T09:04:33.428384Z",
     "iopub.status.idle": "2021-11-25T09:04:33.898662Z",
     "shell.execute_reply": "2021-11-25T09:04:33.899191Z",
     "shell.execute_reply.started": "2021-11-25T09:03:46.993241Z"
    },
    "id": "GcR-Y5iE6ygg",
    "outputId": "bd721b1c-a171-4f49-e40a-3453039f4d7b",
    "papermill": {
     "duration": 0.510296,
     "end_time": "2021-11-25T09:04:33.899365",
     "exception": false,
     "start_time": "2021-11-25T09:04:33.389069",
     "status": "completed"
    },
    "tags": []
   },
   "outputs": [
    {
     "data": {
      "image/png": "[encoded data removed]",
      "text/plain": [
       "<Figure size 432x288 with 1 Axes>"
      ]
     },
     "metadata": {
      "needs_background": "light"
     },
     "output_type": "display_data"
    },
    {
     "data": {
      "image/png": "[encoded data removed]",
      "text/plain": [
       "<Figure size 432x288 with 1 Axes>"
      ]
     },
     "metadata": {
      "needs_background": "light"
     },
     "output_type": "display_data"
    },
    {
     "data": {
      "image/png": "[encoded data removed]",
      "text/plain": [
       "<Figure size 432x288 with 1 Axes>"
      ]
     },
     "metadata": {
      "needs_background": "light"
     },
     "output_type": "display_data"
    }
   ],
   "source": [
    "%matplotlib inline\n",
    "plt.bar(df_horror.index, df_horror['profit']) #to plot between genre and profit\n",
    "plt.xlabel('Genre')\n",
    "plt.ylabel('Profit in 10 million $')\n",
    "plt.show()\n",
    "plt.bar(df_horror.index,df_horror['budget']) #to plot between genre and budget\n",
    "plt.xlabel('Genre')\n",
    "plt.ylabel('Budget')\n",
    "plt.show()\n",
    "plt.bar(df_horror.index,df_horror['gross']) #to plot between genre and gross \n",
    "plt.xlabel('Genre')\n",
    "plt.ylabel('Gross in 10 million $')\n",
    "plt.show()"
   ]
  },
  {
   "cell_type": "code",
   "execution_count": 24,
   "id": "ded73985",
   "metadata": {
    "execution": {
     "iopub.execute_input": "2021-11-25T09:04:33.983502Z",
     "iopub.status.busy": "2021-11-25T09:04:33.982479Z",
     "iopub.status.idle": "2021-11-25T09:04:33.986180Z",
     "shell.execute_reply": "2021-11-25T09:04:33.986764Z",
     "shell.execute_reply.started": "2021-11-25T08:58:48.023826Z"
    },
    "id": "O_MVTQI66x98",
    "outputId": "ac36f1b3-1183-4551-c169-73bf8b33ec99",
    "papermill": {
     "duration": 0.049318,
     "end_time": "2021-11-25T09:04:33.986936",
     "exception": false,
     "start_time": "2021-11-25T09:04:33.937618",
     "status": "completed"
    },
    "tags": []
   },
   "outputs": [
    {
     "name": "stdout",
     "output_type": "stream",
     "text": [
      "The average profit differnce between Horror and Horror|Thriller genre is 9600820.285714284\n",
      "The average budget differnce between Horror and Horror|Thriller genre is 415872.91428571433\n"
     ]
    }
   ],
   "source": [
    "profit_diff = df_horror.loc['Horror'][3] - df_horror.loc['Horror|Thriller'][3]\n",
    "budget_diff = df_horror.loc['Horror'][0] - df_horror.loc['Horror|Thriller'][0]\n",
    "print('The average profit differnce between Horror and Horror|Thriller genre is {}'.format(profit_diff))\n",
    "print('The average budget differnce between Horror and Horror|Thriller genre is {}'.format(budget_diff))"
   ]
  },
  {
   "cell_type": "markdown",
   "id": "e621bb4c",
   "metadata": {
    "id": "sm1l9cgZXRvn",
    "papermill": {
     "duration": 0.047824,
     "end_time": "2021-11-25T09:04:34.081813",
     "exception": false,
     "start_time": "2021-11-25T09:04:34.033989",
     "status": "completed"
    },
    "tags": []
   },
   "source": [
    "From the above analysis, assuming we can make only one film, I propose making a film in the **Horror** genre. However, we still have to do the Hypothesis testing to find if the higher profit shown by the **Horror** movie is statistically significant"
   ]
  },
  {
   "cell_type": "markdown",
   "id": "59d57bc9",
   "metadata": {
    "id": "9I_O_2yngNT-",
    "papermill": {
     "duration": 0.037629,
     "end_time": "2021-11-25T09:04:34.158185",
     "exception": false,
     "start_time": "2021-11-25T09:04:34.120556",
     "status": "completed"
    },
    "tags": []
   },
   "source": [
    "  # Hypothesis testing\n"
   ]
  },
  {
   "cell_type": "markdown",
   "id": "496ef51d",
   "metadata": {
    "id": "6ThfcGgehEH5",
    "papermill": {
     "duration": 0.038374,
     "end_time": "2021-11-25T09:04:34.235372",
     "exception": false,
     "start_time": "2021-11-25T09:04:34.196998",
     "status": "completed"
    },
    "tags": []
   },
   "source": [
    "If horror movies make higher profit, then average profit will be grater for horror movies.\n",
    "\n",
    "* $H_0$ : Average profit for horror movies are same as average of other genre\n",
    "  $U_1$ - $U_2$ = $0$\n",
    "\n",
    "* $H_1$ : Average profit for horror movies are greater than average of other genre $U_1$ - $U_2$ > $0$\n",
    "\n",
    "Here the two groups for which we do the hypothesis testing is for `df_final1['profit']` and `df_final2['profit']`\n",
    "\n",
    "Since here the sample size is not high enough to use a z-test, we will use t-test. Also, the sample size of both the groups which we consider are different, so we cannot assume same varience (ie, we cannot use student's t- test). We will use the Welch's t-test"
   ]
  },
  {
   "cell_type": "code",
   "execution_count": 25,
   "id": "61fba96c",
   "metadata": {
    "execution": {
     "iopub.execute_input": "2021-11-25T09:04:34.316233Z",
     "iopub.status.busy": "2021-11-25T09:04:34.315262Z",
     "iopub.status.idle": "2021-11-25T09:04:34.324042Z",
     "shell.execute_reply": "2021-11-25T09:04:34.324569Z",
     "shell.execute_reply.started": "2021-11-25T08:58:48.038406Z"
    },
    "id": "LReP3_uIgacL",
    "outputId": "6c1452e1-9c02-4b02-f3c3-26a4c7b5b35a",
    "papermill": {
     "duration": 0.050827,
     "end_time": "2021-11-25T09:04:34.324769",
     "exception": false,
     "start_time": "2021-11-25T09:04:34.273942",
     "status": "completed"
    },
    "tags": []
   },
   "outputs": [
    {
     "name": "stdout",
     "output_type": "stream",
     "text": [
      "The mean profit for all genre other than Horror = 5480800.32718894\n",
      "The mean profit of Horror genre = 45122571.28571428\n"
     ]
    }
   ],
   "source": [
    "df_final1 = df_final[df_final['genres']!= 'Horror']\n",
    "df_final2 = df_final[df_final['genres'] =='Horror']\n",
    "print('The mean profit for all genre other than Horror = {}'.format(np.mean(df_final1['profit'])))\n",
    "print('The mean profit of Horror genre = {}'.format(np.mean(df_final2['profit'])))"
   ]
  },
  {
   "cell_type": "code",
   "execution_count": 26,
   "id": "40ce20cc",
   "metadata": {
    "execution": {
     "iopub.execute_input": "2021-11-25T09:04:34.405293Z",
     "iopub.status.busy": "2021-11-25T09:04:34.404335Z",
     "iopub.status.idle": "2021-11-25T09:04:34.903252Z",
     "shell.execute_reply": "2021-11-25T09:04:34.902715Z",
     "shell.execute_reply.started": "2021-11-25T08:58:48.050427Z"
    },
    "id": "WxTrJL-W_yaS",
    "outputId": "958ef197-7ae3-4544-a774-5b5f9e452554",
    "papermill": {
     "duration": 0.540225,
     "end_time": "2021-11-25T09:04:34.903402",
     "exception": false,
     "start_time": "2021-11-25T09:04:34.363177",
     "status": "completed"
    },
    "tags": []
   },
   "outputs": [
    {
     "data": {
      "image/png": "[encoded data removed]",
      "text/plain": [
       "<Figure size 432x288 with 1 Axes>"
      ]
     },
     "metadata": {
      "needs_background": "light"
     },
     "output_type": "display_data"
    },
    {
     "data": {
      "image/png": "[encoded data removed]",
      "text/plain": [
       "<Figure size 432x288 with 1 Axes>"
      ]
     },
     "metadata": {
      "needs_background": "light"
     },
     "output_type": "display_data"
    }
   ],
   "source": [
    "import warnings\n",
    "warnings.filterwarnings(\"ignore\") #to ignore the futurewarning of distplot\n",
    "sn.distplot(df_final1['profit']) #for getting the distribution plot for 'profit'from genres other than horror\n",
    "plt.show()\n",
    "sn.distplot(df_final2['profit'])#for getting the distribution plot for 'profit' from Horror genre\n",
    "plt.show()\n"
   ]
  },
  {
   "cell_type": "code",
   "execution_count": 27,
   "id": "e04189b8",
   "metadata": {
    "execution": {
     "iopub.execute_input": "2021-11-25T09:04:34.989570Z",
     "iopub.status.busy": "2021-11-25T09:04:34.988893Z",
     "iopub.status.idle": "2021-11-25T09:04:34.990204Z",
     "shell.execute_reply": "2021-11-25T09:04:34.990771Z",
     "shell.execute_reply.started": "2021-11-25T08:58:48.542063Z"
    },
    "id": "kPcUoaeEDBlF",
    "papermill": {
     "duration": 0.048024,
     "end_time": "2021-11-25T09:04:34.990950",
     "exception": false,
     "start_time": "2021-11-25T09:04:34.942926",
     "status": "completed"
    },
    "tags": []
   },
   "outputs": [],
   "source": [
    "def hypothesis_testing(data1,data2):\n",
    "  alpha = [0.01, 0.05, 0.1] #common values for significance level\n",
    "  from scipy.stats import ttest_ind\n",
    "  stat,p_value = ttest_ind(data1,data2, equal_var= False)\n",
    "  print(p_value/2)#since we are doing single tail test, we need only p_value/2\n",
    "  for i in alpha:\n",
    "    if p_value/2 < i:\n",
    "      print('Reject the Null Hypothesis H0 at {} % significance level'.format(i*100))\n",
    "      break\n",
    "    else:\n",
    "      print('Failed to reject the Null Hypothesis H0 at {} % significance level'.format(i*100))\n",
    "\n"
   ]
  },
  {
   "cell_type": "code",
   "execution_count": 28,
   "id": "3006a005",
   "metadata": {
    "execution": {
     "iopub.execute_input": "2021-11-25T09:04:35.073070Z",
     "iopub.status.busy": "2021-11-25T09:04:35.072444Z",
     "iopub.status.idle": "2021-11-25T09:04:35.080465Z",
     "shell.execute_reply": "2021-11-25T09:04:35.080966Z",
     "shell.execute_reply.started": "2021-11-25T08:58:48.550937Z"
    },
    "id": "oFqXhJ9MH8fu",
    "outputId": "556178cc-dca1-421a-8117-7a3312900ac5",
    "papermill": {
     "duration": 0.050705,
     "end_time": "2021-11-25T09:04:35.081137",
     "exception": false,
     "start_time": "2021-11-25T09:04:35.030432",
     "status": "completed"
    },
    "tags": []
   },
   "outputs": [
    {
     "name": "stdout",
     "output_type": "stream",
     "text": [
      "0.0601730681113145\n",
      "Failed to reject the Null Hypothesis H0 at 1.0 % significance level\n",
      "Failed to reject the Null Hypothesis H0 at 5.0 % significance level\n",
      "Reject the Null Hypothesis H0 at 10.0 % significance level\n"
     ]
    }
   ],
   "source": [
    "hypothesis_testing(df_final2['profit'],df_final1['profit'])\n"
   ]
  },
  {
   "cell_type": "markdown",
   "id": "40f8c4dc",
   "metadata": {
    "id": "qFsAFccvYktU",
    "papermill": {
     "duration": 0.040457,
     "end_time": "2021-11-25T09:04:35.162327",
     "exception": false,
     "start_time": "2021-11-25T09:04:35.121870",
     "status": "completed"
    },
    "tags": []
   },
   "source": [
    "From the above hypothesis testing, we can say that making a movie in **Horror** genre can give higher profit than average of other movie genre at a confidence interval of 90%"
   ]
  },
  {
   "cell_type": "markdown",
   "id": "b348492f",
   "metadata": {
    "id": "fRBE6ffrZSLD",
    "papermill": {
     "duration": 0.040296,
     "end_time": "2021-11-25T09:04:35.244392",
     "exception": false,
     "start_time": "2021-11-25T09:04:35.204096",
     "status": "completed"
    },
    "tags": []
   },
   "source": [
    " # Summary"
   ]
  },
  {
   "cell_type": "markdown",
   "id": "4d0e5a7b",
   "metadata": {
    "id": "zv_2A6UUZVnY",
    "papermill": {
     "duration": 0.040706,
     "end_time": "2021-11-25T09:04:35.325015",
     "exception": false,
     "start_time": "2021-11-25T09:04:35.284309",
     "status": "completed"
    },
    "tags": []
   },
   "source": [
    "An exploritory data analysis is done on the available data set to figure out which movie genre we have to make next for maximising the profit within the given budget. First I have done the data cleaning and wrangling and estimated rough correlation between features so that we can eliminate irrelevant features.Then by further analysis I have understood that many of the popular genre was out of our reach because of the budget limitation.\n",
    "\n",
    "The data is further analysed and the top genres which makes high profit was figured out. However, many such genres had only limited number of films in it making the analysis based only on such small sample size non-reliable. To overcome this, movie genres which has considerable sample size as well as high profit was found. From those movie genres **Horror** movie genre is proposed because of its significantly high returns over the budget.\n",
    "\n",
    "Finally a hypothesis testing is done and I figured out that I could propose the **Horror** movie genre at a 90% confidence interval.\n",
    "\n",
    "\n",
    "\n"
   ]
  }
 ],
 "metadata": {
  "kernelspec": {
   "display_name": "Python 3",
   "language": "python",
   "name": "python3"
  },
  "language_info": {
   "codemirror_mode": {
    "name": "ipython",
    "version": 3
   },
   "file_extension": ".py",
   "mimetype": "text/x-python",
   "name": "python",
   "nbconvert_exporter": "python",
   "pygments_lexer": "ipython3",
   "version": "3.7.10"
  },
  "papermill": {
   "default_parameters": {},
   "duration": 17.188682,
   "end_time": "2021-11-25T09:04:36.175043",
   "environment_variables": {},
   "exception": null,
   "input_path": "__notebook__.ipynb",
   "output_path": "__notebook__.ipynb",
   "parameters": {},
   "start_time": "2021-11-25T09:04:18.986361",
   "version": "2.3.3"
  }
 },
 "nbformat": 4,
 "nbformat_minor": 5
}
